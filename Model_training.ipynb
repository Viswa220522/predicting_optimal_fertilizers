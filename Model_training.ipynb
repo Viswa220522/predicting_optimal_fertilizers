{
 "cells": [
  {
   "cell_type": "markdown",
   "id": "d11b66f9-954f-4996-a0a8-deb372ccf6a1",
   "metadata": {},
   "source": [
    "# Steps\n",
    "\n",
    "## 1. [Import the Libraries](#1.-Import-the-libraries)\n",
    "## 2. [Load the data](#2.-Load-the-Data)\n",
    "## 3. [Preprocessing](#3.-Preprocessing-the-Data)\n",
    "- 3.1 [OneHotEncoding](#3.1-Data-tranformation)\n",
    "- 3.2 [Standard Scaling](#3.2-Standard-Scaling)\n",
    "## 4. [Data preparation](#4.-Data-Preparation)\n",
    "## 5. [Model Evaluator](#5.-Mean-Average-Precision)\n",
    "## 6. [Model training](#6.-Model-Training)\n",
    "- 6.1 [MAP@3 Score](#6.1-Model-Score)\n",
    "## 7. [Feature Engineering](#7.-Adding-New-Features)\n",
    "- 7.1 [Numeric Features](#7.1-Numerical-Columns)\n",
    "## [Submission](#Submit-the-test-data-prediction)"
   ]
  },
  {
   "cell_type": "markdown",
   "id": "e2a193ad-0f03-4088-af1c-c1c9d85c462a",
   "metadata": {},
   "source": [
    "## 1. Import the libraries"
   ]
  },
  {
   "cell_type": "markdown",
   "id": "9eea12bb-9b93-45a8-bfd4-de724f78c36a",
   "metadata": {},
   "source": [
    "[🔝 Return to top](#Steps)"
   ]
  },
  {
   "cell_type": "code",
   "execution_count": 1,
   "id": "95086287-f536-4072-9c08-68028ba0a216",
   "metadata": {},
   "outputs": [],
   "source": [
    "import numpy as np\n",
    "import pandas as pd\n",
    "import matplotlib.pyplot as plt\n",
    "import seaborn as sns\n",
    "\n",
    "from sklearn.model_selection import train_test_split\n",
    "from sklearn.preprocessing import LabelEncoder # Used to label Categorical Target Variable\n",
    "from sklearn.preprocessing import OneHotEncoder # Used for unordered categorical features\n",
    "from sklearn.preprocessing import OrdinalEncoder # Used for ordered categorical features\n",
    "from sklearn.preprocessing import StandardScaler\n",
    "from sklearn.model_selection import StratifiedKFold\n",
    "from sklearn.compose import ColumnTransformer\n",
    "\n",
    "from xgboost import XGBClassifier, plot_importance\n",
    "from lightgbm import LGBMClassifier\n",
    "from catboost import CatBoostClassifier\n",
    "\n",
    "from sklearn.metrics import accuracy_score\n",
    "from sklearn.metrics import average_precision_score\n",
    "\n",
    "########  hyperparameter Tuning  #################\n",
    "#import optuna\n",
    "\n",
    "import warnings\n",
    "warnings.filterwarnings('ignore')"
   ]
  },
  {
   "cell_type": "markdown",
   "id": "74717095-8407-43bf-81d1-af7dbe796d6c",
   "metadata": {},
   "source": [
    "## 2. Load the Data"
   ]
  },
  {
   "cell_type": "markdown",
   "id": "f1e046a8-4274-4bf2-ad6c-13f441ea16fb",
   "metadata": {},
   "source": [
    "[🔝 Return to top](#Steps)"
   ]
  },
  {
   "cell_type": "code",
   "execution_count": 2,
   "id": "1f6b120f-4e91-4837-ad98-5d73d20360a5",
   "metadata": {},
   "outputs": [],
   "source": [
    "train_data = pd.read_csv('train.csv')\n",
    "test_data = pd.read_csv('test.csv')\n",
    "train_data.set_index('id', inplace = True)\n",
    "test_data.set_index('id', inplace = True)\n",
    "train_copy = train_data.copy()\n",
    "test_copy = test_data.copy()"
   ]
  },
  {
   "cell_type": "markdown",
   "id": "244acb3d-9725-4307-9a22-632fbb3951f1",
   "metadata": {},
   "source": [
    "## 3. Preprocessing the Data"
   ]
  },
  {
   "cell_type": "markdown",
   "id": "0eb09758-61ab-4b8f-aa9b-462aada815e1",
   "metadata": {},
   "source": [
    "[🔝 Return to top](#Steps)"
   ]
  },
  {
   "cell_type": "code",
   "execution_count": 3,
   "id": "8a0591f1-64da-47ca-9c90-e384e2145b3c",
   "metadata": {},
   "outputs": [],
   "source": [
    "numerical_columns = [ col for col in train_data.columns if train_data[col].dtype != 'O']\n",
    "#['Temparature', 'Humidity', 'Moisture', 'Nitrogen', 'Potassium', 'Phosphorous']\n",
    "# All Categorical Columns -> ['Soil Type', 'Crop Type', 'Fertilizer Name'] \n",
    "categorical_columns = [col for col in train_data.columns if train_data[col].dtype == 'object' and col != 'Fertilizer Name']\n",
    "#['Soil Type', 'Crop Type']"
   ]
  },
  {
   "cell_type": "markdown",
   "id": "664098b7-cde8-4dac-a12a-91d6a40dabdb",
   "metadata": {},
   "source": [
    "### 3.1 Data tranformation"
   ]
  },
  {
   "cell_type": "markdown",
   "id": "5a9c4cc9-685a-485d-8c19-ed9fe1da3554",
   "metadata": {},
   "source": [
    "[🔝 Return to top](#Steps)"
   ]
  },
  {
   "cell_type": "code",
   "execution_count": 4,
   "id": "c195c187-fe25-4e4f-a8dc-4aa765e140eb",
   "metadata": {},
   "outputs": [],
   "source": [
    "labeler = LabelEncoder()\n",
    "train_data['Fertilizer Name'] = labeler.fit_transform(train_data['Fertilizer Name'])"
   ]
  },
  {
   "cell_type": "code",
   "execution_count": 5,
   "id": "93b2f6e3-4c4b-4b4d-9da2-1ed31a3d7e23",
   "metadata": {},
   "outputs": [],
   "source": [
    "cat_encoder = OneHotEncoder() # Unordered Catergorical Columns\n",
    "\n",
    "preprocessor = ColumnTransformer(\n",
    "    transformers = [\n",
    "        ('categorical', OneHotEncoder(sparse_output = False, handle_unknown = 'ignore'), categorical_columns)\n",
    "],\n",
    "    remainder = 'passthrough'  # Keep other columns same\n",
    ")"
   ]
  },
  {
   "cell_type": "code",
   "execution_count": 6,
   "id": "e2befc77-7dca-4a94-8ae8-2e36bc07580d",
   "metadata": {},
   "outputs": [],
   "source": [
    "for col in categorical_columns:\n",
    "    train_dummy = pd.get_dummies(train_data[col], dtype= int )\n",
    "    train_data = pd.concat([train_data, train_dummy], axis = 1)\n",
    "    test_dummy = pd.get_dummies(test_data[col], dtype = int)\n",
    "    test_data = pd.concat([test_data, test_dummy], axis = 1)"
   ]
  },
  {
   "cell_type": "code",
   "execution_count": 7,
   "id": "60ca471f-bddf-443d-a87e-2ac5d36dd56e",
   "metadata": {},
   "outputs": [],
   "source": [
    "train_data.drop(categorical_columns, axis = 1, inplace = True)\n",
    "test_data.drop(categorical_columns, axis = 1, inplace = True)"
   ]
  },
  {
   "cell_type": "code",
   "execution_count": 8,
   "id": "f999e090-4a7e-4c48-b541-c68c1a0f789e",
   "metadata": {},
   "outputs": [
    {
     "data": {
      "text/plain": [
       "(250000, 22)"
      ]
     },
     "execution_count": 8,
     "metadata": {},
     "output_type": "execute_result"
    }
   ],
   "source": [
    "test_data.shape"
   ]
  },
  {
   "cell_type": "markdown",
   "id": "81239cd3-fd2a-4cb3-9ab9-7b6bfcf232b4",
   "metadata": {},
   "source": [
    "### 3.2 Standard Scaling"
   ]
  },
  {
   "cell_type": "markdown",
   "id": "c728514d-c4de-4560-b468-03122bd062a6",
   "metadata": {},
   "source": [
    "[🔝 Return to top](#Steps)"
   ]
  },
  {
   "cell_type": "raw",
   "id": "58ea2f6c-c53a-4397-9282-c0e3d2299c29",
   "metadata": {},
   "source": [
    "# Decreases the accuracy so not use\n",
    "scaler = StandardScaler()\n",
    "\n",
    "for col_name in numerical_columns:\n",
    "    train_data[col_name] = scaler.fit_transform(train_data[[col_name]])\n",
    "    test_data[col_name] = scaler.fit_transform(test_data[[col_name]])"
   ]
  },
  {
   "cell_type": "markdown",
   "id": "e0651543-1a10-4880-b426-ec139d28e043",
   "metadata": {},
   "source": [
    "## 4. Data Preparation"
   ]
  },
  {
   "cell_type": "markdown",
   "id": "07694d06-2b6c-4dd4-8af5-e358f55385d6",
   "metadata": {},
   "source": [
    "[🔝 Return to top](#Steps)"
   ]
  },
  {
   "cell_type": "code",
   "execution_count": 9,
   "id": "ed40bb70-cc73-4469-b0a0-480b64aebee0",
   "metadata": {},
   "outputs": [],
   "source": [
    "X = train_data.drop(['Fertilizer Name'], axis = 1)\n",
    "y = train_data['Fertilizer Name']\n",
    "\n",
    "# X_train, X_test, y_train, y_test = train_test_split(X, y, test_size = 0.2, random_state = 42)"
   ]
  },
  {
   "cell_type": "markdown",
   "id": "31da5840-86d8-429f-9be2-97ff1fe0c8c3",
   "metadata": {},
   "source": [
    "## 5. Mean Average Precision"
   ]
  },
  {
   "cell_type": "markdown",
   "id": "4011958d-0840-4e12-aa2a-33cff0e2c0c9",
   "metadata": {},
   "source": [
    "[🔝 Return to top](#Steps)"
   ]
  },
  {
   "cell_type": "code",
   "execution_count": 10,
   "id": "6daf1fe3-0533-449d-a540-6196a56faf7c",
   "metadata": {},
   "outputs": [],
   "source": [
    "############################### MAP@3 ####################################\n",
    "def mapk(y_test, y_pred_proba,k =3):\n",
    "    top3_indices = np.argsort(y_pred_proba, axis = 1)[:, ::-1][ : ,:3]\n",
    "    sum_ap = 0\n",
    "\n",
    "    for indx, lst in enumerate(top3_indices):\n",
    "        true_label = y_test.iloc[indx]\n",
    "\n",
    "        try:\n",
    "            ap = 1 / (list(lst).index(true_label) + 1)\n",
    "        except ValueError:\n",
    "            ap = 0\n",
    "\n",
    "        sum_ap += ap\n",
    "\n",
    "    return (sum_ap / len(y_test))"
   ]
  },
  {
   "cell_type": "markdown",
   "id": "407150b9-7d6c-4549-9aba-d74a267f80c4",
   "metadata": {},
   "source": [
    "## 6. Model Training "
   ]
  },
  {
   "cell_type": "markdown",
   "id": "c3656879-65e3-41cf-8e69-88f06ec04056",
   "metadata": {},
   "source": [
    "[🔝 Return to top](#Steps)"
   ]
  },
  {
   "cell_type": "code",
   "execution_count": 11,
   "id": "a8b989dd-27c8-43e0-9d53-f0725ec97e63",
   "metadata": {},
   "outputs": [],
   "source": [
    "models = [XGBClassifier(\n",
    "    n_estimators=200,\n",
    "    learning_rate=0.05,\n",
    "    max_depth=6,\n",
    "    subsample=0.8,\n",
    "    colsample_bytree=0.8,\n",
    "    random_state=42,\n",
    "    use_label_encoder=False,\n",
    "    eval_metric='mlogloss'\n",
    "),\n",
    "          CatBoostClassifier(verbose = 0),\n",
    "          LGBMClassifier(verbose = -1)\n",
    "         ]"
   ]
  },
  {
   "cell_type": "code",
   "execution_count": 12,
   "id": "96c5dede-e09e-40be-8836-8e33dbf0b25e",
   "metadata": {},
   "outputs": [],
   "source": [
    "skf = StratifiedKFold(n_splits = 5, shuffle = True, random_state = 42)"
   ]
  },
  {
   "cell_type": "code",
   "execution_count": 13,
   "id": "1e581b58-8c5a-4cdd-9044-dc80bc459b23",
   "metadata": {
    "scrolled": true
   },
   "outputs": [
    {
     "name": "stdout",
     "output_type": "stream",
     "text": [
      "Evaluating: XGBClassifier\n",
      "----------------------------------------\n",
      "  Fold 1 ---> MAP@3 Score = 0.3229\n",
      "----------------------------------------\n",
      "  Fold 2 ---> MAP@3 Score = 0.3234\n",
      "----------------------------------------\n",
      "  Fold 3 ---> MAP@3 Score = 0.3236\n",
      "----------------------------------------\n",
      "  Fold 4 ---> MAP@3 Score = 0.3242\n",
      "----------------------------------------\n",
      "  Fold 5 ---> MAP@3 Score = 0.3239\n",
      "Average MAP@3 score for XGBClassifier = 0.3236\n",
      "\n",
      "Evaluating: CatBoostClassifier\n",
      "----------------------------------------\n",
      "  Fold 1 ---> MAP@3 Score = 0.3277\n",
      "----------------------------------------\n",
      "  Fold 2 ---> MAP@3 Score = 0.3274\n",
      "----------------------------------------\n",
      "  Fold 3 ---> MAP@3 Score = 0.3278\n",
      "----------------------------------------\n",
      "  Fold 4 ---> MAP@3 Score = 0.3282\n",
      "----------------------------------------\n",
      "  Fold 5 ---> MAP@3 Score = 0.3284\n",
      "Average MAP@3 score for CatBoostClassifier = 0.3279\n",
      "\n",
      "Evaluating: LGBMClassifier\n",
      "----------------------------------------\n",
      "  Fold 1 ---> MAP@3 Score = 0.3219\n",
      "----------------------------------------\n",
      "  Fold 2 ---> MAP@3 Score = 0.3236\n",
      "----------------------------------------\n",
      "  Fold 3 ---> MAP@3 Score = 0.3228\n",
      "----------------------------------------\n",
      "  Fold 4 ---> MAP@3 Score = 0.3225\n",
      "----------------------------------------\n",
      "  Fold 5 ---> MAP@3 Score = 0.3227\n",
      "Average MAP@3 score for LGBMClassifier = 0.3227\n",
      "\n"
     ]
    }
   ],
   "source": [
    "for model in models:\n",
    "    print(f\"Evaluating: {model.__class__.__name__}\")\n",
    "    scores = []\n",
    "\n",
    "    for fold, (train_index, test_index) in enumerate(skf.split(X, y)):\n",
    "        X_train, X_test, y_train, y_test = X.iloc[train_index], X.iloc[test_index], y.iloc[train_index], y.iloc[test_index]\n",
    "\n",
    "        model.fit(X_train, y_train)\n",
    "        y_pred_proba = model.predict_proba(X_test)\n",
    "        score = mapk(y_test, y_pred_proba)\n",
    "        scores.append(score)\n",
    "        print('-'*40)\n",
    "        print(f\"  Fold {fold+1} ---> MAP@3 Score = {score:.4f}\")\n",
    "\n",
    "    print(f\"Average MAP@3 score for {model.__class__.__name__} = {np.mean(scores):.4f}\\n\")"
   ]
  },
  {
   "cell_type": "markdown",
   "id": "5dea6fae-be24-4f17-938a-655b9a104dca",
   "metadata": {
    "jp-MarkdownHeadingCollapsed": true
   },
   "source": [
    "##### ouput"
   ]
  },
  {
   "cell_type": "raw",
   "id": "719abc21-f824-4496-86eb-6d94f5ac71e6",
   "metadata": {},
   "source": [
    "Evaluating: XGBClassifier\n",
    "----------------------------------------\n",
    "  Fold 1 ---> MAP@3 Score = 0.3229\n",
    "----------------------------------------\n",
    "  Fold 2 ---> MAP@3 Score = 0.3234\n",
    "----------------------------------------\n",
    "  Fold 3 ---> MAP@3 Score = 0.3236\n",
    "----------------------------------------\n",
    "  Fold 4 ---> MAP@3 Score = 0.3242\n",
    "----------------------------------------\n",
    "  Fold 5 ---> MAP@3 Score = 0.3239\n",
    "Average MAP@3 score for XGBClassifier = 0.3236\n",
    "\n",
    "Evaluating: CatBoostClassifier\n",
    "----------------------------------------\n",
    "  Fold 1 ---> MAP@3 Score = 0.3277\n",
    "----------------------------------------\n",
    "  Fold 2 ---> MAP@3 Score = 0.3274\n",
    "----------------------------------------\n",
    "  Fold 3 ---> MAP@3 Score = 0.3278\n",
    "----------------------------------------\n",
    "  Fold 4 ---> MAP@3 Score = 0.3282\n",
    "----------------------------------------\n",
    "  Fold 5 ---> MAP@3 Score = 0.3284\n",
    "Average MAP@3 score for CatBoostClassifier = 0.3279\n",
    "\n",
    "Evaluating: LGBMClassifier\n",
    "----------------------------------------\n",
    "  Fold 1 ---> MAP@3 Score = 0.3219\n",
    "----------------------------------------\n",
    "  Fold 2 ---> MAP@3 Score = 0.3236\n",
    "----------------------------------------\n",
    "  Fold 3 ---> MAP@3 Score = 0.3228\n",
    "----------------------------------------\n",
    "  Fold 4 ---> MAP@3 Score = 0.3225\n",
    "----------------------------------------\n",
    "  Fold 5 ---> MAP@3 Score = 0.3227\n",
    "Average MAP@3 score for LGBMClassifier = 0.3227"
   ]
  },
  {
   "cell_type": "markdown",
   "id": "2a10d0c2-5bd3-4bfe-afc1-c45a2ee9495e",
   "metadata": {
    "jp-MarkdownHeadingCollapsed": true
   },
   "source": [
    "## 7. Adding New Features"
   ]
  },
  {
   "cell_type": "markdown",
   "id": "de10cd6b-16c0-4d93-96a6-443423b5627d",
   "metadata": {},
   "source": [
    "[🔝 Return to top](#Steps)"
   ]
  },
  {
   "cell_type": "markdown",
   "id": "c2da694e-439c-4806-8c16-1710174dfe17",
   "metadata": {
    "jp-MarkdownHeadingCollapsed": true
   },
   "source": [
    "### 7.1 Numerical Columns"
   ]
  },
  {
   "cell_type": "raw",
   "id": "38d10135-bf35-4f29-9207-2396d511e238",
   "metadata": {},
   "source": [
    "train_data.corr()['Fertilizer Name'].sort_values(ascending = False)"
   ]
  },
  {
   "cell_type": "raw",
   "id": "0d4806bf-e9d2-48d7-be11-32d54de644ce",
   "metadata": {},
   "source": [
    "# Adding Moisture + Humidity columns\n",
    "train_data['Moisture_Humidity'] = train_data['Moisture'] + train_data['Humidity']\n",
    "test_data['Moisture_Humidity'] = test_data['Moisture'] + test_data['Humidity']\n",
    "\n",
    "# Adding Potassium - Phosphorous columns\n",
    "train_data['Potassium_Phosphorous'] = train_data['Potassium'] * train_data['Phosphorous']\n",
    "test_data['Potassium_Phosphorous'] = test_data['Potassium'] * test_data['Phosphorous']\n"
   ]
  },
  {
   "cell_type": "raw",
   "id": "966c24cc-f481-41de-9e83-244d1d5e52bd",
   "metadata": {},
   "source": [
    "X = train_data.drop(['Fertilizer Name'], axis = 1)\n",
    "y = train_data['Fertilizer Name']\n",
    "\n",
    "for model in models:\n",
    "    print(f\"Evaluating: {model.__class__.__name__}\")\n",
    "    scores = []\n",
    "\n",
    "    for fold, (train_index, test_index) in enumerate(skf.split(X, y)):\n",
    "        X_train, X_test, y_train, y_test = X.iloc[train_index], X.iloc[test_index], y.iloc[train_index], y.iloc[test_index]\n",
    "\n",
    "        model.fit(X_train, y_train)\n",
    "        y_pred_proba = model.predict_proba(X_test)\n",
    "        score = mapk(y_test, y_pred_proba)\n",
    "        scores.append(score)\n",
    "        print('-'*40)\n",
    "        print(f\"  Fold {fold+1} ---> MAP@3 Score = {score:.4f}\")\n",
    "\n",
    "    print(f\"Average MAP@3 score for {model.__class__.__name__} = {np.mean(scores):.4f}\\n\")"
   ]
  },
  {
   "cell_type": "raw",
   "id": "bd024990-32d1-4315-adfd-03cedec56c2c",
   "metadata": {},
   "source": [
    "from xgboost import plot_importance\n",
    "\n",
    "plot_importance(model, max_num_features=15)\n",
    "plt.show()"
   ]
  },
  {
   "cell_type": "raw",
   "id": "a55e0a46-32b9-4c7e-93d2-3aab0f56123d",
   "metadata": {},
   "source": [
    "from sklearn.feature_selection import mutual_info_classif\n",
    "\n",
    "mi = mutual_info_classif(X, y)\n",
    "mi_series = pd.Series(mi, index=X.columns).sort_values(ascending=False)\n",
    "print(mi_series)"
   ]
  },
  {
   "cell_type": "markdown",
   "id": "52d770e3-2f4a-4c58-a158-e3192eb79594",
   "metadata": {},
   "source": [
    "## Submit the test data prediction"
   ]
  },
  {
   "cell_type": "markdown",
   "id": "23d1cebe-24c4-4073-a2b8-c0008a839e1d",
   "metadata": {},
   "source": [
    "[🔝 Return to top](#Steps)"
   ]
  },
  {
   "cell_type": "code",
   "execution_count": 18,
   "id": "e0285cf8-7b77-4b2a-ac57-39ad19fc8640",
   "metadata": {},
   "outputs": [],
   "source": [
    "model = CatBoostClassifier(verbose = 0)\n",
    "\n",
    "model.fit(X,y)\n",
    "\n",
    "probs = model.predict_proba(test_data)\n",
    "top3_indices = np.argsort(probs , axis = 1)[ : , ::-1][:,:3]\n",
    "top3_labels = labeler.inverse_transform(top3_indices.ravel()).reshape(top3_indices.shape)\n",
    "\n",
    "pred_top3 = [' '.join(row) for row in top3_labels]"
   ]
  },
  {
   "cell_type": "code",
   "execution_count": 19,
   "id": "b8a7bdb8-032a-4213-bcb1-bc958e80db24",
   "metadata": {},
   "outputs": [
    {
     "data": {
      "text/html": [
       "<div>\n",
       "<style scoped>\n",
       "    .dataframe tbody tr th:only-of-type {\n",
       "        vertical-align: middle;\n",
       "    }\n",
       "\n",
       "    .dataframe tbody tr th {\n",
       "        vertical-align: top;\n",
       "    }\n",
       "\n",
       "    .dataframe thead th {\n",
       "        text-align: right;\n",
       "    }\n",
       "</style>\n",
       "<table border=\"1\" class=\"dataframe\">\n",
       "  <thead>\n",
       "    <tr style=\"text-align: right;\">\n",
       "      <th></th>\n",
       "      <th>id</th>\n",
       "      <th>Fertilizer Name</th>\n",
       "    </tr>\n",
       "  </thead>\n",
       "  <tbody>\n",
       "    <tr>\n",
       "      <th>0</th>\n",
       "      <td>750000</td>\n",
       "      <td>10-26-26 DAP 28-28</td>\n",
       "    </tr>\n",
       "    <tr>\n",
       "      <th>1</th>\n",
       "      <td>750001</td>\n",
       "      <td>17-17-17 20-20 10-26-26</td>\n",
       "    </tr>\n",
       "    <tr>\n",
       "      <th>2</th>\n",
       "      <td>750002</td>\n",
       "      <td>20-20 14-35-14 10-26-26</td>\n",
       "    </tr>\n",
       "    <tr>\n",
       "      <th>3</th>\n",
       "      <td>750003</td>\n",
       "      <td>14-35-14 17-17-17 DAP</td>\n",
       "    </tr>\n",
       "    <tr>\n",
       "      <th>4</th>\n",
       "      <td>750004</td>\n",
       "      <td>20-20 10-26-26 17-17-17</td>\n",
       "    </tr>\n",
       "  </tbody>\n",
       "</table>\n",
       "</div>"
      ],
      "text/plain": [
       "       id          Fertilizer Name\n",
       "0  750000       10-26-26 DAP 28-28\n",
       "1  750001  17-17-17 20-20 10-26-26\n",
       "2  750002  20-20 14-35-14 10-26-26\n",
       "3  750003    14-35-14 17-17-17 DAP\n",
       "4  750004  20-20 10-26-26 17-17-17"
      ]
     },
     "execution_count": 19,
     "metadata": {},
     "output_type": "execute_result"
    }
   ],
   "source": [
    "submission = pd.DataFrame({\n",
    "    \"id\" : test_data.index,\n",
    "    \"Fertilizer Name\" : pred_top3\n",
    "})\n",
    "\n",
    "submission.to_csv(\"submission.csv\", index = False) \n",
    "submission.head()"
   ]
  }
 ],
 "metadata": {
  "kernelspec": {
   "display_name": "Python 3 (ipykernel)",
   "language": "python",
   "name": "python3"
  },
  "language_info": {
   "codemirror_mode": {
    "name": "ipython",
    "version": 3
   },
   "file_extension": ".py",
   "mimetype": "text/x-python",
   "name": "python",
   "nbconvert_exporter": "python",
   "pygments_lexer": "ipython3",
   "version": "3.11.9"
  }
 },
 "nbformat": 4,
 "nbformat_minor": 5
}
