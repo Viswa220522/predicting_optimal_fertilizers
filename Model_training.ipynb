{
 "cells": [
  {
   "cell_type": "markdown",
   "id": "d11b66f9-954f-4996-a0a8-deb372ccf6a1",
   "metadata": {},
   "source": [
    "# Steps\n",
    "\n",
    "## 1. [Import the Libraries](#1.-Import-the-libraries)\n",
    "## 2. [Load the data](#2.-Load-the-Data)\n",
    "## 3. [Preprocessing](#3.-Preprocessing-the-Data)\n",
    "- 3.1 [OneHotEncoding](#3.1-OneHotEncoding-with-LabelEncoder)\n",
    "- 3.2 [Standard Scaling](#3.2-Standard-Scaling)\n",
    "## 4. [Data preparation](#4.-Data-Preparation)\n",
    "## 5. [Model training](#5.-Model-Training)\n",
    "## 6. [Model Evaluation](#6.-Mean-Average-Precision)\n",
    "- 6.1 [MAP@3 Score](#6.1-Model-Score)\n",
    "## [Submission](#Submit-the-test-data-prediction)"
   ]
  },
  {
   "cell_type": "markdown",
   "id": "e2a193ad-0f03-4088-af1c-c1c9d85c462a",
   "metadata": {
    "jp-MarkdownHeadingCollapsed": true
   },
   "source": [
    "## 1. Import the libraries"
   ]
  },
  {
   "cell_type": "markdown",
   "id": "9eea12bb-9b93-45a8-bfd4-de724f78c36a",
   "metadata": {},
   "source": [
    "[🔝 Return to top](#Steps)"
   ]
  },
  {
   "cell_type": "code",
   "execution_count": 1,
   "id": "95086287-f536-4072-9c08-68028ba0a216",
   "metadata": {},
   "outputs": [],
   "source": [
    "import numpy as np\n",
    "import pandas as pd\n",
    "import matplotlib.pyplot as plt\n",
    "import seaborn as sns\n",
    "\n",
    "from sklearn.model_selection import train_test_split\n",
    "from sklearn.preprocessing import LabelEncoder\n",
    "from sklearn.preprocessing import StandardScaler\n",
    "\n",
    "from xgboost import XGBClassifier, plot_importance\n",
    "from lightgbm import LGBMClassifier\n",
    "from catboost import CatBoostClassifier\n",
    "\n",
    "from sklearn.metrics import accuracy_score\n",
    "from sklearn.metrics import average_precision_score\n",
    "import warnings\n",
    "warnings.filterwarnings('ignore')"
   ]
  },
  {
   "cell_type": "markdown",
   "id": "74717095-8407-43bf-81d1-af7dbe796d6c",
   "metadata": {
    "jp-MarkdownHeadingCollapsed": true
   },
   "source": [
    "## 2. Load the Data"
   ]
  },
  {
   "cell_type": "markdown",
   "id": "f1e046a8-4274-4bf2-ad6c-13f441ea16fb",
   "metadata": {},
   "source": [
    "[🔝 Return to top](#Steps)"
   ]
  },
  {
   "cell_type": "code",
   "execution_count": 2,
   "id": "1f6b120f-4e91-4837-ad98-5d73d20360a5",
   "metadata": {},
   "outputs": [],
   "source": [
    "train_data = pd.read_csv('train.csv')\n",
    "test_data = pd.read_csv('test.csv')\n",
    "train_data.set_index('id', inplace = True)\n",
    "test_data.set_index('id', inplace = True)"
   ]
  },
  {
   "cell_type": "markdown",
   "id": "244acb3d-9725-4307-9a22-632fbb3951f1",
   "metadata": {},
   "source": [
    "## 3. Preprocessing the Data"
   ]
  },
  {
   "cell_type": "markdown",
   "id": "0eb09758-61ab-4b8f-aa9b-462aada815e1",
   "metadata": {},
   "source": [
    "[🔝 Return to top](#Steps)"
   ]
  },
  {
   "cell_type": "code",
   "execution_count": 3,
   "id": "8a0591f1-64da-47ca-9c90-e384e2145b3c",
   "metadata": {},
   "outputs": [],
   "source": [
    "numerical_columns = [ col for col in train_data.columns if train_data[col].dtype != 'O']\n",
    "#['Temparature', 'Humidity', 'Moisture', 'Nitrogen', 'Potassium', 'Phosphorous']\n",
    "categorical_columns = [col for col in train_data.columns if train_data[col].dtype == 'object']\n",
    "#['Soil Type', 'Crop Type', 'Fertilizer Name']"
   ]
  },
  {
   "cell_type": "code",
   "execution_count": 4,
   "id": "9d14cecc-d6c7-43ef-af3b-be1a8717b897",
   "metadata": {},
   "outputs": [
    {
     "data": {
      "text/plain": [
       "['Temparature', 'Humidity', 'Moisture', 'Nitrogen', 'Potassium', 'Phosphorous']"
      ]
     },
     "execution_count": 4,
     "metadata": {},
     "output_type": "execute_result"
    }
   ],
   "source": [
    "numerical_columns"
   ]
  },
  {
   "cell_type": "code",
   "execution_count": 5,
   "id": "82065f8d-6912-4c09-a560-2507ed15cc92",
   "metadata": {},
   "outputs": [
    {
     "data": {
      "text/html": [
       "<div>\n",
       "<style scoped>\n",
       "    .dataframe tbody tr th:only-of-type {\n",
       "        vertical-align: middle;\n",
       "    }\n",
       "\n",
       "    .dataframe tbody tr th {\n",
       "        vertical-align: top;\n",
       "    }\n",
       "\n",
       "    .dataframe thead th {\n",
       "        text-align: right;\n",
       "    }\n",
       "</style>\n",
       "<table border=\"1\" class=\"dataframe\">\n",
       "  <thead>\n",
       "    <tr style=\"text-align: right;\">\n",
       "      <th></th>\n",
       "      <th>Temparature</th>\n",
       "      <th>Humidity</th>\n",
       "      <th>Moisture</th>\n",
       "      <th>Soil Type</th>\n",
       "      <th>Crop Type</th>\n",
       "      <th>Nitrogen</th>\n",
       "      <th>Potassium</th>\n",
       "      <th>Phosphorous</th>\n",
       "      <th>Fertilizer Name</th>\n",
       "    </tr>\n",
       "    <tr>\n",
       "      <th>id</th>\n",
       "      <th></th>\n",
       "      <th></th>\n",
       "      <th></th>\n",
       "      <th></th>\n",
       "      <th></th>\n",
       "      <th></th>\n",
       "      <th></th>\n",
       "      <th></th>\n",
       "      <th></th>\n",
       "    </tr>\n",
       "  </thead>\n",
       "  <tbody>\n",
       "    <tr>\n",
       "      <th>0</th>\n",
       "      <td>37</td>\n",
       "      <td>70</td>\n",
       "      <td>36</td>\n",
       "      <td>Clayey</td>\n",
       "      <td>Sugarcane</td>\n",
       "      <td>36</td>\n",
       "      <td>4</td>\n",
       "      <td>5</td>\n",
       "      <td>28-28</td>\n",
       "    </tr>\n",
       "  </tbody>\n",
       "</table>\n",
       "</div>"
      ],
      "text/plain": [
       "    Temparature  Humidity  Moisture Soil Type  Crop Type  Nitrogen  Potassium  \\\n",
       "id                                                                              \n",
       "0            37        70        36    Clayey  Sugarcane        36          4   \n",
       "\n",
       "    Phosphorous Fertilizer Name  \n",
       "id                               \n",
       "0             5           28-28  "
      ]
     },
     "execution_count": 5,
     "metadata": {},
     "output_type": "execute_result"
    }
   ],
   "source": [
    "train_data.iloc[:1]"
   ]
  },
  {
   "cell_type": "markdown",
   "id": "664098b7-cde8-4dac-a12a-91d6a40dabdb",
   "metadata": {},
   "source": [
    "### 3.1 OneHotEncoding with LabelEncoder"
   ]
  },
  {
   "cell_type": "markdown",
   "id": "5a9c4cc9-685a-485d-8c19-ed9fe1da3554",
   "metadata": {},
   "source": [
    "[🔝 Return to top](#Steps)"
   ]
  },
  {
   "cell_type": "code",
   "execution_count": 13,
   "id": "6e09f33a-089c-448b-8977-1fdcaee8f539",
   "metadata": {},
   "outputs": [],
   "source": [
    "labeler = LabelEncoder()\n",
    "test_data['Fertilizer Name'] = 'z' # added column so that LabelEncoder can recognize while inverse_transform\n",
    "for col_name in categorical_columns:\n",
    "    test_data[col_name] = labeler.fit_transform(test_data[col_name])\n",
    "    train_data[col_name] = labeler.fit_transform(train_data[col_name])"
   ]
  },
  {
   "cell_type": "markdown",
   "id": "81239cd3-fd2a-4cb3-9ab9-7b6bfcf232b4",
   "metadata": {},
   "source": [
    "### 3.2 Standard Scaling"
   ]
  },
  {
   "cell_type": "markdown",
   "id": "c728514d-c4de-4560-b468-03122bd062a6",
   "metadata": {},
   "source": [
    "[🔝 Return to top](#Steps)"
   ]
  },
  {
   "cell_type": "raw",
   "id": "58ea2f6c-c53a-4397-9282-c0e3d2299c29",
   "metadata": {},
   "source": [
    "# Decreases the accuracy\n",
    "scaler = StandardScaler()\n",
    "\n",
    "for col_name in numerical_columns:\n",
    "    train_data[col_name] = scaler.fit_transform(train_data[[col_name]])\n",
    "    test_data[col_name] = scaler.fit_transform(test_data[[col_name]])"
   ]
  },
  {
   "cell_type": "markdown",
   "id": "e0651543-1a10-4880-b426-ec139d28e043",
   "metadata": {},
   "source": [
    "## 4. Data Preparation"
   ]
  },
  {
   "cell_type": "markdown",
   "id": "07694d06-2b6c-4dd4-8af5-e358f55385d6",
   "metadata": {},
   "source": [
    "[🔝 Return to top](#Steps)"
   ]
  },
  {
   "cell_type": "code",
   "execution_count": 7,
   "id": "1991cc7b-15b5-4fdd-94da-bf0b2efbad3b",
   "metadata": {},
   "outputs": [],
   "source": [
    "X = train_data.drop(['Fertilizer Name'], axis = 1)\n",
    "y = train_data['Fertilizer Name']\n",
    "\n",
    "X_train, X_test, y_train, y_test = train_test_split(X, y, test_size = 0.2, random_state = 42)"
   ]
  },
  {
   "cell_type": "markdown",
   "id": "63354a38-5180-4c7a-9080-de258a8cf04a",
   "metadata": {},
   "source": [
    "## 5. Model Training "
   ]
  },
  {
   "cell_type": "markdown",
   "id": "c3656879-65e3-41cf-8e69-88f06ec04056",
   "metadata": {},
   "source": [
    "[🔝 Return to top](#Steps)"
   ]
  },
  {
   "cell_type": "code",
   "execution_count": 8,
   "id": "eed25844-4220-451a-8ce0-64e8ac6e5c00",
   "metadata": {},
   "outputs": [],
   "source": [
    "model = XGBClassifier(\n",
    "    n_estimators=200,\n",
    "    learning_rate=0.05,\n",
    "    max_depth=6,\n",
    "    subsample=0.8,\n",
    "    colsample_bytree=0.8,\n",
    "    random_state=42,\n",
    "    use_label_encoder=False,\n",
    "    eval_metric='mlogloss'\n",
    ")\n",
    "\n",
    "model.fit(X_train, y_train)\n",
    "\n",
    "y_pred_proba = model.predict_proba(X_test)"
   ]
  },
  {
   "cell_type": "markdown",
   "id": "a930817b-b886-4ce9-a229-4cb6562edb50",
   "metadata": {},
   "source": [
    "## 6. Mean Average Precision"
   ]
  },
  {
   "cell_type": "markdown",
   "id": "4011958d-0840-4e12-aa2a-33cff0e2c0c9",
   "metadata": {},
   "source": [
    "[🔝 Return to top](#Steps)"
   ]
  },
  {
   "cell_type": "code",
   "execution_count": 9,
   "id": "c68583bb-447b-4b06-82f6-ed288f161c58",
   "metadata": {},
   "outputs": [],
   "source": [
    "# MAP@3\n",
    "def mapk(y_test, y_pred_proba,k =3):\n",
    "    top3_indices = np.argsort(y_pred_proba, axis = 1)[:, ::-1][ : ,:3]\n",
    "    sum_ap = 0\n",
    "\n",
    "    for indx, lst in enumerate(top3_indices):\n",
    "        true_label = y_test.iloc[indx]\n",
    "        '''\n",
    "        if true_label in lst:\n",
    "            ap = 1 / (list(lst).index(true_label) + 1)  \n",
    "        else:\n",
    "            ap = 0\n",
    "        '''\n",
    "                    # OR\n",
    "        \n",
    "        try:\n",
    "            ap = 1 / (list(lst).index(true_label) + 1)\n",
    "        except ValueError:\n",
    "            ap = 0\n",
    "\n",
    "        sum_ap += ap\n",
    "\n",
    "    return (sum_ap / len(y_test))"
   ]
  },
  {
   "cell_type": "markdown",
   "id": "0c15c6eb-ac35-4972-aaea-b9e3f888521f",
   "metadata": {},
   "source": [
    "### 6.1 Model Score"
   ]
  },
  {
   "cell_type": "code",
   "execution_count": 10,
   "id": "8342e11b-574e-4ec0-b551-b959a47a2c7b",
   "metadata": {},
   "outputs": [
    {
     "data": {
      "text/plain": [
       "0.32288555555562565"
      ]
     },
     "execution_count": 10,
     "metadata": {},
     "output_type": "execute_result"
    }
   ],
   "source": [
    "mapk(y_test, y_pred_proba)"
   ]
  },
  {
   "cell_type": "markdown",
   "id": "e2590467-fd01-4661-9823-03bdb23aa4a8",
   "metadata": {},
   "source": [
    "## Submit the test data prediction"
   ]
  },
  {
   "cell_type": "markdown",
   "id": "23d1cebe-24c4-4073-a2b8-c0008a839e1d",
   "metadata": {},
   "source": [
    "[🔝 Return to top](#Steps)"
   ]
  },
  {
   "cell_type": "code",
   "execution_count": 11,
   "id": "bfb3216d-be10-4600-a41c-ae75aab8b706",
   "metadata": {},
   "outputs": [],
   "source": [
    "model = XGBClassifier(\n",
    "    n_estimators=200,\n",
    "    learning_rate=0.05,\n",
    "    max_depth=6,\n",
    "    subsample=0.8,\n",
    "    colsample_bytree=0.8,\n",
    "    random_state=42,\n",
    "    use_label_encoder=False,\n",
    "    eval_metric='mlogloss'\n",
    ")\n",
    "\n",
    "model.fit(X,y)\n",
    "\n",
    "probs = model.predict_proba(test_data.drop(['Fertilizer Name'], axis =1))\n",
    "top3_indices = np.argsort(probs , axis = 1)[ : , ::-1][:,:3]\n",
    "top3_labels = labeler.inverse_transform(top3_indices.ravel()).reshape(top3_indices.shape)\n",
    "\n",
    "pred_top3 = [' '.join(row) for row in top3_labels]"
   ]
  },
  {
   "cell_type": "code",
   "execution_count": 12,
   "id": "f956298b-8eaf-4108-984f-a90e8040d457",
   "metadata": {},
   "outputs": [
    {
     "data": {
      "text/html": [
       "<div>\n",
       "<style scoped>\n",
       "    .dataframe tbody tr th:only-of-type {\n",
       "        vertical-align: middle;\n",
       "    }\n",
       "\n",
       "    .dataframe tbody tr th {\n",
       "        vertical-align: top;\n",
       "    }\n",
       "\n",
       "    .dataframe thead th {\n",
       "        text-align: right;\n",
       "    }\n",
       "</style>\n",
       "<table border=\"1\" class=\"dataframe\">\n",
       "  <thead>\n",
       "    <tr style=\"text-align: right;\">\n",
       "      <th></th>\n",
       "      <th>id</th>\n",
       "      <th>Fertilizer Name</th>\n",
       "    </tr>\n",
       "  </thead>\n",
       "  <tbody>\n",
       "    <tr>\n",
       "      <th>0</th>\n",
       "      <td>750000</td>\n",
       "      <td>DAP 28-28 14-35-14</td>\n",
       "    </tr>\n",
       "    <tr>\n",
       "      <th>1</th>\n",
       "      <td>750001</td>\n",
       "      <td>17-17-17 20-20 10-26-26</td>\n",
       "    </tr>\n",
       "    <tr>\n",
       "      <th>2</th>\n",
       "      <td>750002</td>\n",
       "      <td>20-20 14-35-14 10-26-26</td>\n",
       "    </tr>\n",
       "    <tr>\n",
       "      <th>3</th>\n",
       "      <td>750003</td>\n",
       "      <td>14-35-14 17-17-17 10-26-26</td>\n",
       "    </tr>\n",
       "    <tr>\n",
       "      <th>4</th>\n",
       "      <td>750004</td>\n",
       "      <td>20-20 10-26-26 17-17-17</td>\n",
       "    </tr>\n",
       "  </tbody>\n",
       "</table>\n",
       "</div>"
      ],
      "text/plain": [
       "       id             Fertilizer Name\n",
       "0  750000          DAP 28-28 14-35-14\n",
       "1  750001     17-17-17 20-20 10-26-26\n",
       "2  750002     20-20 14-35-14 10-26-26\n",
       "3  750003  14-35-14 17-17-17 10-26-26\n",
       "4  750004     20-20 10-26-26 17-17-17"
      ]
     },
     "execution_count": 12,
     "metadata": {},
     "output_type": "execute_result"
    }
   ],
   "source": [
    "submission = pd.DataFrame({\n",
    "    \"id\" : test_data.index,\n",
    "    \"Fertilizer Name\" : pred_top3\n",
    "})\n",
    "\n",
    "submission.to_csv(\"submission.csv\", index = False) \n",
    "submission.head()"
   ]
  }
 ],
 "metadata": {
  "kernelspec": {
   "display_name": "Python 3 (ipykernel)",
   "language": "python",
   "name": "python3"
  },
  "language_info": {
   "codemirror_mode": {
    "name": "ipython",
    "version": 3
   },
   "file_extension": ".py",
   "mimetype": "text/x-python",
   "name": "python",
   "nbconvert_exporter": "python",
   "pygments_lexer": "ipython3",
   "version": "3.11.9"
  }
 },
 "nbformat": 4,
 "nbformat_minor": 5
}
