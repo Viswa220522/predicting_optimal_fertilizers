{
 "cells": [
  {
   "cell_type": "markdown",
   "id": "d11b66f9-954f-4996-a0a8-deb372ccf6a1",
   "metadata": {},
   "source": [
    "# Steps\n",
    "\n",
    "## 1. [Import the Libraries](#1.-Import-the-libraries)\n",
    "## 2. [Load the data](#2.-Load-the-Data)\n",
    "## 3. [Preprocessing](#3.-Preprocessing-the-Data)\n",
    "- 3.1 [OneHotEncoding](#3.1-Data-tranformation)\n",
    "- 3.2 [Standard Scaling](#3.2-Standard-Scaling)\n",
    "## 4. [Data preparation](#4.-Data-Preparation)\n",
    "## 5. [Model Evaluator](#5.-Mean-Average-Precision)\n",
    "## 6. [Model training](#6.-Model-Training)\n",
    "- 6.1 [MAP@3 Score](#6.1-Model-Score)\n",
    "## 7. [Feature Engineering](#7.-Adding-New-Features)\n",
    "- 7.1 [Numeric Features](#7.1-Numerical-Columns)\n",
    "## [Submission](#Submit-the-test-data-prediction)"
   ]
  },
  {
   "cell_type": "markdown",
   "id": "e2a193ad-0f03-4088-af1c-c1c9d85c462a",
   "metadata": {},
   "source": [
    "## 1. Import the libraries"
   ]
  },
  {
   "cell_type": "markdown",
   "id": "9eea12bb-9b93-45a8-bfd4-de724f78c36a",
   "metadata": {},
   "source": [
    "[🔝 Return to top](#Steps)"
   ]
  },
  {
   "cell_type": "code",
   "execution_count": 1,
   "id": "95086287-f536-4072-9c08-68028ba0a216",
   "metadata": {},
   "outputs": [],
   "source": [
    "import numpy as np\n",
    "import pandas as pd\n",
    "import matplotlib.pyplot as plt\n",
    "import seaborn as sns\n",
    "\n",
    "from sklearn.model_selection import train_test_split\n",
    "from sklearn.preprocessing import LabelEncoder # Used to label Categorical Target Variable\n",
    "from sklearn.preprocessing import OneHotEncoder # Used for unordered categorical features\n",
    "from sklearn.preprocessing import OrdinalEncoder # Used for ordered categorical features\n",
    "from sklearn.preprocessing import StandardScaler\n",
    "from sklearn.model_selection import StratifiedKFold\n",
    "from sklearn.compose import ColumnTransformer\n",
    "\n",
    "from xgboost import XGBClassifier, plot_importance\n",
    "from lightgbm import LGBMClassifier\n",
    "from catboost import CatBoostClassifier\n",
    "\n",
    "from sklearn.metrics import accuracy_score\n",
    "from sklearn.metrics import average_precision_score\n",
    "\n",
    "########  hyperparameter Tuning  #################\n",
    "#import optuna\n",
    "\n",
    "import warnings\n",
    "warnings.filterwarnings('ignore')"
   ]
  },
  {
   "cell_type": "markdown",
   "id": "74717095-8407-43bf-81d1-af7dbe796d6c",
   "metadata": {},
   "source": [
    "## 2. Load the Data"
   ]
  },
  {
   "cell_type": "markdown",
   "id": "f1e046a8-4274-4bf2-ad6c-13f441ea16fb",
   "metadata": {},
   "source": [
    "[🔝 Return to top](#Steps)"
   ]
  },
  {
   "cell_type": "code",
   "execution_count": 2,
   "id": "1f6b120f-4e91-4837-ad98-5d73d20360a5",
   "metadata": {},
   "outputs": [],
   "source": [
    "train_data = pd.read_csv('train.csv')\n",
    "test_data = pd.read_csv('test.csv')\n",
    "train_data.set_index('id', inplace = True)\n",
    "test_data.set_index('id', inplace = True)\n",
    "train_copy = train_data.copy()\n",
    "test_copy = test_data.copy()"
   ]
  },
  {
   "cell_type": "markdown",
   "id": "244acb3d-9725-4307-9a22-632fbb3951f1",
   "metadata": {},
   "source": [
    "## 3. Preprocessing the Data"
   ]
  },
  {
   "cell_type": "markdown",
   "id": "0eb09758-61ab-4b8f-aa9b-462aada815e1",
   "metadata": {},
   "source": [
    "[🔝 Return to top](#Steps)"
   ]
  },
  {
   "cell_type": "code",
   "execution_count": 3,
   "id": "8a0591f1-64da-47ca-9c90-e384e2145b3c",
   "metadata": {},
   "outputs": [],
   "source": [
    "numerical_columns = [ col for col in train_data.columns if train_data[col].dtype != 'O']\n",
    "#['Temparature', 'Humidity', 'Moisture', 'Nitrogen', 'Potassium', 'Phosphorous']\n",
    "# All Categorical Columns -> ['Soil Type', 'Crop Type', 'Fertilizer Name'] \n",
    "categorical_columns = [col for col in train_data.columns if train_data[col].dtype == 'object' and col != 'Fertilizer Name']\n",
    "#['Soil Type', 'Crop Type']"
   ]
  },
  {
   "cell_type": "markdown",
   "id": "664098b7-cde8-4dac-a12a-91d6a40dabdb",
   "metadata": {},
   "source": [
    "### 3.1 Data tranformation"
   ]
  },
  {
   "cell_type": "markdown",
   "id": "5a9c4cc9-685a-485d-8c19-ed9fe1da3554",
   "metadata": {},
   "source": [
    "[🔝 Return to top](#Steps)"
   ]
  },
  {
   "cell_type": "code",
   "execution_count": 4,
   "id": "c195c187-fe25-4e4f-a8dc-4aa765e140eb",
   "metadata": {},
   "outputs": [],
   "source": [
    "labeler = LabelEncoder()\n",
    "train_data['Fertilizer Name'] = labeler.fit_transform(train_data['Fertilizer Name'])"
   ]
  },
  {
   "cell_type": "code",
   "execution_count": 5,
   "id": "93b2f6e3-4c4b-4b4d-9da2-1ed31a3d7e23",
   "metadata": {},
   "outputs": [],
   "source": [
    "cat_encoder = OneHotEncoder() # Unordered Catergorical Columns\n",
    "\n",
    "preprocessor = ColumnTransformer(\n",
    "    transformers = [\n",
    "        ('categorical', OneHotEncoder(sparse_output = False, handle_unknown = 'ignore'), categorical_columns)\n",
    "],\n",
    "    remainder = 'passthrough'  # Keep other columns same\n",
    ")"
   ]
  },
  {
   "cell_type": "code",
   "execution_count": 6,
   "id": "e2befc77-7dca-4a94-8ae8-2e36bc07580d",
   "metadata": {},
   "outputs": [],
   "source": [
    "for col in categorical_columns:\n",
    "    train_dummy = pd.get_dummies(train_data[col], dtype= int )\n",
    "    train_data = pd.concat([train_data, train_dummy], axis = 1)\n",
    "    test_dummy = pd.get_dummies(test_data[col], dtype = int)\n",
    "    test_data = pd.concat([test_data, test_dummy], axis = 1)"
   ]
  },
  {
   "cell_type": "code",
   "execution_count": 7,
   "id": "60ca471f-bddf-443d-a87e-2ac5d36dd56e",
   "metadata": {},
   "outputs": [],
   "source": [
    "train_data.drop(categorical_columns, axis = 1, inplace = True)\n",
    "test_data.drop(categorical_columns, axis = 1, inplace = True)"
   ]
  },
  {
   "cell_type": "code",
   "execution_count": 8,
   "id": "f999e090-4a7e-4c48-b541-c68c1a0f789e",
   "metadata": {},
   "outputs": [
    {
     "data": {
      "text/plain": [
       "(250000, 22)"
      ]
     },
     "execution_count": 8,
     "metadata": {},
     "output_type": "execute_result"
    }
   ],
   "source": [
    "test_data.shape"
   ]
  },
  {
   "cell_type": "markdown",
   "id": "81239cd3-fd2a-4cb3-9ab9-7b6bfcf232b4",
   "metadata": {},
   "source": [
    "### 3.2 Standard Scaling"
   ]
  },
  {
   "cell_type": "markdown",
   "id": "c728514d-c4de-4560-b468-03122bd062a6",
   "metadata": {},
   "source": [
    "[🔝 Return to top](#Steps)"
   ]
  },
  {
   "cell_type": "raw",
   "id": "58ea2f6c-c53a-4397-9282-c0e3d2299c29",
   "metadata": {},
   "source": [
    "# Decreases the accuracy so not use\n",
    "scaler = StandardScaler()\n",
    "\n",
    "for col_name in numerical_columns:\n",
    "    train_data[col_name] = scaler.fit_transform(train_data[[col_name]])\n",
    "    test_data[col_name] = scaler.fit_transform(test_data[[col_name]])"
   ]
  },
  {
   "cell_type": "markdown",
   "id": "e0651543-1a10-4880-b426-ec139d28e043",
   "metadata": {},
   "source": [
    "## 4. Data Preparation"
   ]
  },
  {
   "cell_type": "markdown",
   "id": "07694d06-2b6c-4dd4-8af5-e358f55385d6",
   "metadata": {},
   "source": [
    "[🔝 Return to top](#Steps)"
   ]
  },
  {
   "cell_type": "code",
   "execution_count": 13,
   "id": "ed40bb70-cc73-4469-b0a0-480b64aebee0",
   "metadata": {},
   "outputs": [],
   "source": [
    "X = train_data.drop(['Fertilizer Name'], axis = 1)\n",
    "y = train_data['Fertilizer Name']\n",
    "\n",
    "X_train, X_test, y_train, y_test = train_test_split(X, y, test_size = 0.2, random_state = 42)"
   ]
  },
  {
   "cell_type": "markdown",
   "id": "31da5840-86d8-429f-9be2-97ff1fe0c8c3",
   "metadata": {},
   "source": [
    "## 5. Mean Average Precision"
   ]
  },
  {
   "cell_type": "markdown",
   "id": "4011958d-0840-4e12-aa2a-33cff0e2c0c9",
   "metadata": {},
   "source": [
    "[🔝 Return to top](#Steps)"
   ]
  },
  {
   "cell_type": "code",
   "execution_count": 10,
   "id": "6daf1fe3-0533-449d-a540-6196a56faf7c",
   "metadata": {},
   "outputs": [],
   "source": [
    "############################### MAP@3 ####################################\n",
    "def mapk(y_test, y_pred_proba,k =3):\n",
    "    top3_indices = np.argsort(y_pred_proba, axis = 1)[:, ::-1][ : ,:3]\n",
    "    sum_ap = 0\n",
    "\n",
    "    for indx, lst in enumerate(top3_indices):\n",
    "        true_label = y_test.iloc[indx]\n",
    "\n",
    "        try:\n",
    "            ap = 1 / (list(lst).index(true_label) + 1)\n",
    "        except ValueError:\n",
    "            ap = 0\n",
    "\n",
    "        sum_ap += ap\n",
    "\n",
    "    return (sum_ap / len(y_test))"
   ]
  },
  {
   "cell_type": "markdown",
   "id": "29967625-7b71-4d32-ba51-66fe77685197",
   "metadata": {},
   "source": [
    "## Hyperparameter Tuning"
   ]
  },
  {
   "cell_type": "code",
   "execution_count": null,
   "id": "d575824c-9bd7-41c5-9c0c-6a64934557f4",
   "metadata": {},
   "outputs": [],
   "source": [
    "def objective_xgb_multiclass(trial):\n",
    "    \"\"\"\n",
    "    Objective function for Optuna to optimize XGBoost hyperparameters for multi-class classification.\n",
    "    \"\"\"\n",
    "    # 1. Define the hyperparameter search space\n",
    "    params = {\n",
    "        'objective': 'multi:softprob',  # For multi-class classification (returns probabilities)\n",
    "        'eval_metric': 'mlogloss',      # Metric for early stopping for multi-class logloss\n",
    "        'num_class': len(np.unique(y)), # Crucial: Specify the number of classes\n",
    "        'n_estimators': trial.suggest_int('n_estimators', 100, 1000, step=100),\n",
    "        'learning_rate': trial.suggest_float('learning_rate', 0.01, 0.3, log=True),\n",
    "        'max_depth': trial.suggest_int('max_depth', 3, 9),\n",
    "        'subsample': trial.suggest_float('subsample', 0.6, 1.0),\n",
    "        'colsample_bytree': trial.suggest_float('colsample_bytree', 0.6, 1.0),\n",
    "        'gamma': trial.suggest_float('gamma', 1e-8, 1.0, log=True),\n",
    "        'reg_lambda': trial.suggest_float('reg_lambda', 1e-8, 10.0, log=True),\n",
    "        'reg_alpha': trial.suggest_float('reg_alpha', 1e-8, 10.0, log=True),\n",
    "        'use_label_encoder': False,      # Suppress the deprecation warning\n",
    "        'random_state': 42               # For reproducibility\n",
    "    }\n",
    "\n",
    "    # 2. Instantiate the XGBClassifier with the suggested parameters\n",
    "    model = XGBClassifier(**params)\n",
    "\n",
    "    # 3. Evaluate the model using cross-validation\n",
    "    cv = StratifiedKFold(n_splits=5, shuffle=True, random_state=42)\n",
    "    scores = []\n",
    "    # For multi-class, it's common to optimize for accuracy or negative log-loss\n",
    "    # Here, we'll use accuracy as the primary optimization metric for the study,\n",
    "    # but also show how to calculate log-loss if you wanted to optimize that instead.\n",
    "\n",
    "    for train_idx, val_idx in cv.split(X, y):\n",
    "        X_train, X_val = X.iloc[train_idx], X.iloc[val_idx]\n",
    "        y_train, y_val = y.iloc[train_idx], y.iloc[val_idx]\n",
    "\n",
    "        model.fit(X_train, y_train,\n",
    "                  #early_stopping_rounds=50,\n",
    "                  eval_set=[(X_val, y_val)],\n",
    "                  verbose=False)\n",
    "\n",
    "        # Predict probabilities for log-loss, or classes for accuracy\n",
    "        y_pred_proba = model.predict_proba(X_val)\n",
    "        y_pred_class = model.predict(X_val)\n",
    "\n",
    "        # Calculate evaluation metrics\n",
    "        current_accuracy = accuracy_score(y_val, y_pred_class)\n",
    "\n",
    "        scores.append(current_accuracy) # We are optimizing for accuracy\n",
    "\n",
    "    # Return the average score across folds\n",
    "    return np.mean(scores)"
   ]
  },
  {
   "cell_type": "raw",
   "id": "f0ee9c61-06c6-4f2c-a53d-91dbdf092a01",
   "metadata": {},
   "source": [
    "if __name__ == '__main__':\n",
    "    # Create an Optuna study. 'maximize' for accuracy.\n",
    "    study = optuna.create_study(direction='maximize', sampler=optuna.samplers.TPESampler(seed=42))\n",
    "\n",
    "    print(\"Starting optimization for XGBClassifier (Multi-class)...\")\n",
    "    study.optimize(objective_xgb_multiclass, n_trials=50) # Run 50 trials\n",
    "\n",
    "    print(\"\\nOptimization finished.\")\n",
    "    print(f\"Number of finished trials: {len(study.trials)}\")\n",
    "    print(\"Best trial:\")\n",
    "\n",
    "    best_trial = study.best_trial\n",
    "    print(f\"  Value (Mean Accuracy): {best_trial.value:.4f}\")\n",
    "    print(\"  Best Parameters:\")\n",
    "    for key, value in best_trial.params.items():\n",
    "        print(f\"    {key}: {value}\")\n",
    "\n",
    "    # To use the best model:\n",
    "    # best_xgb_params = study.best_params\n",
    "    # final_model = XGBClassifier(**best_xgb_params, use_label_encoder=False, random_state=42)\n",
    "    # final_model.fit(X, y) # Train on the full dataset with the best parameters"
   ]
  },
  {
   "cell_type": "code",
   "execution_count": 11,
   "id": "5636386c-8e5a-4d1c-9926-3cd82a858291",
   "metadata": {},
   "outputs": [],
   "source": [
    "params = {\n",
    "    'n_estimators': 800,\n",
    "    'learning_rate': 0.03217095903889588,\n",
    "    'max_depth': 8,\n",
    "    'subsample': 0.8208104960302076,\n",
    "    'colsample_bytree': 0.6588310736593839,\n",
    "    'gamma': 0.0032831657530829235,\n",
    "    'reg_lambda': 8.963908695312456,\n",
    "    'reg_alpha': 0.04783339091017353\n",
    "}\n",
    "\n",
    "model = XGBClassifier(**params)"
   ]
  },
  {
   "cell_type": "code",
   "execution_count": 14,
   "id": "fb52f29e-055f-48ec-9583-c270f0694276",
   "metadata": {},
   "outputs": [
    {
     "name": "stdout",
     "output_type": "stream",
     "text": [
      "0.3416844444445301\n"
     ]
    }
   ],
   "source": [
    "model.fit(X_train, y_train)\n",
    "\n",
    "y_pred_proba = model.predict_proba(X_test)\n",
    "\n",
    "print(mapk(y_test, y_pred_proba))"
   ]
  },
  {
   "cell_type": "markdown",
   "id": "407150b9-7d6c-4549-9aba-d74a267f80c4",
   "metadata": {},
   "source": [
    "## 6. Model Training "
   ]
  },
  {
   "cell_type": "markdown",
   "id": "c3656879-65e3-41cf-8e69-88f06ec04056",
   "metadata": {},
   "source": [
    "[🔝 Return to top](#Steps)"
   ]
  },
  {
   "cell_type": "raw",
   "id": "adf964be-3805-4190-93a6-e3980a902223",
   "metadata": {},
   "source": [
    "models = [XGBClassifier(\n",
    "    n_estimators=200,\n",
    "    learning_rate=0.05,\n",
    "    max_depth=6,\n",
    "    subsample=0.8,\n",
    "    colsample_bytree=0.8,\n",
    "    random_state=42,\n",
    "    use_label_encoder=False,\n",
    "    eval_metric='mlogloss'\n",
    "),\n",
    "          CatBoostClassifier(verbose = 0),\n",
    "          LGBMClassifier(verbose = -1)\n",
    "         ]"
   ]
  },
  {
   "cell_type": "raw",
   "id": "0d9fc8bf-f253-4deb-a7ba-22a2cc8971bb",
   "metadata": {},
   "source": [
    "skf = StratifiedKFold(n_splits = 5, shuffle = True, random_state = 42)"
   ]
  },
  {
   "cell_type": "raw",
   "id": "380ff8ec-267b-4934-851c-9996b3390a01",
   "metadata": {
    "scrolled": true
   },
   "source": [
    "for model in models:\n",
    "    print(f\"Evaluating: {model.__class__.__name__}\")\n",
    "    scores = []\n",
    "\n",
    "    for fold, (train_index, test_index) in enumerate(skf.split(X, y)):\n",
    "        X_train, X_test, y_train, y_test = X.iloc[train_index], X.iloc[test_index], y.iloc[train_index], y.iloc[test_index]\n",
    "\n",
    "        model.fit(X_train, y_train)\n",
    "        y_pred_proba = model.predict_proba(X_test)\n",
    "        score = mapk(y_test, y_pred_proba)\n",
    "        scores.append(score)\n",
    "        print('-'*40)\n",
    "        print(f\"  Fold {fold+1} ---> MAP@3 Score = {score:.4f}\")\n",
    "\n",
    "    print(f\"Average MAP@3 score for {model.__class__.__name__} = {np.mean(scores):.4f}\\n\")"
   ]
  },
  {
   "cell_type": "markdown",
   "id": "5dea6fae-be24-4f17-938a-655b9a104dca",
   "metadata": {
    "jp-MarkdownHeadingCollapsed": true
   },
   "source": [
    "##### ouput"
   ]
  },
  {
   "cell_type": "raw",
   "id": "719abc21-f824-4496-86eb-6d94f5ac71e6",
   "metadata": {},
   "source": [
    "Evaluating: XGBClassifier\n",
    "----------------------------------------\n",
    "  Fold 1 ---> MAP@3 Score = 0.3229\n",
    "----------------------------------------\n",
    "  Fold 2 ---> MAP@3 Score = 0.3234\n",
    "----------------------------------------\n",
    "  Fold 3 ---> MAP@3 Score = 0.3236\n",
    "----------------------------------------\n",
    "  Fold 4 ---> MAP@3 Score = 0.3242\n",
    "----------------------------------------\n",
    "  Fold 5 ---> MAP@3 Score = 0.3239\n",
    "Average MAP@3 score for XGBClassifier = 0.3236\n",
    "\n",
    "Evaluating: CatBoostClassifier\n",
    "----------------------------------------\n",
    "  Fold 1 ---> MAP@3 Score = 0.3277\n",
    "----------------------------------------\n",
    "  Fold 2 ---> MAP@3 Score = 0.3274\n",
    "----------------------------------------\n",
    "  Fold 3 ---> MAP@3 Score = 0.3278\n",
    "----------------------------------------\n",
    "  Fold 4 ---> MAP@3 Score = 0.3282\n",
    "----------------------------------------\n",
    "  Fold 5 ---> MAP@3 Score = 0.3284\n",
    "Average MAP@3 score for CatBoostClassifier = 0.3279\n",
    "\n",
    "Evaluating: LGBMClassifier\n",
    "----------------------------------------\n",
    "  Fold 1 ---> MAP@3 Score = 0.3219\n",
    "----------------------------------------\n",
    "  Fold 2 ---> MAP@3 Score = 0.3236\n",
    "----------------------------------------\n",
    "  Fold 3 ---> MAP@3 Score = 0.3228\n",
    "----------------------------------------\n",
    "  Fold 4 ---> MAP@3 Score = 0.3225\n",
    "----------------------------------------\n",
    "  Fold 5 ---> MAP@3 Score = 0.3227\n",
    "Average MAP@3 score for LGBMClassifier = 0.3227"
   ]
  },
  {
   "cell_type": "markdown",
   "id": "2a10d0c2-5bd3-4bfe-afc1-c45a2ee9495e",
   "metadata": {
    "jp-MarkdownHeadingCollapsed": true
   },
   "source": [
    "## 7. Adding New Features"
   ]
  },
  {
   "cell_type": "markdown",
   "id": "de10cd6b-16c0-4d93-96a6-443423b5627d",
   "metadata": {},
   "source": [
    "[🔝 Return to top](#Steps)"
   ]
  },
  {
   "cell_type": "markdown",
   "id": "c2da694e-439c-4806-8c16-1710174dfe17",
   "metadata": {
    "jp-MarkdownHeadingCollapsed": true
   },
   "source": [
    "### 7.1 Numerical Columns"
   ]
  },
  {
   "cell_type": "raw",
   "id": "38d10135-bf35-4f29-9207-2396d511e238",
   "metadata": {},
   "source": [
    "train_data.corr()['Fertilizer Name'].sort_values(ascending = False)"
   ]
  },
  {
   "cell_type": "raw",
   "id": "0d4806bf-e9d2-48d7-be11-32d54de644ce",
   "metadata": {},
   "source": [
    "# Adding Moisture + Humidity columns\n",
    "train_data['Moisture_Humidity'] = train_data['Moisture'] + train_data['Humidity']\n",
    "test_data['Moisture_Humidity'] = test_data['Moisture'] + test_data['Humidity']\n",
    "\n",
    "# Adding Potassium - Phosphorous columns\n",
    "train_data['Potassium_Phosphorous'] = train_data['Potassium'] * train_data['Phosphorous']\n",
    "test_data['Potassium_Phosphorous'] = test_data['Potassium'] * test_data['Phosphorous']\n"
   ]
  },
  {
   "cell_type": "raw",
   "id": "966c24cc-f481-41de-9e83-244d1d5e52bd",
   "metadata": {},
   "source": [
    "X = train_data.drop(['Fertilizer Name'], axis = 1)\n",
    "y = train_data['Fertilizer Name']\n",
    "\n",
    "for model in models:\n",
    "    print(f\"Evaluating: {model.__class__.__name__}\")\n",
    "    scores = []\n",
    "\n",
    "    for fold, (train_index, test_index) in enumerate(skf.split(X, y)):\n",
    "        X_train, X_test, y_train, y_test = X.iloc[train_index], X.iloc[test_index], y.iloc[train_index], y.iloc[test_index]\n",
    "\n",
    "        model.fit(X_train, y_train)\n",
    "        y_pred_proba = model.predict_proba(X_test)\n",
    "        score = mapk(y_test, y_pred_proba)\n",
    "        scores.append(score)\n",
    "        print('-'*40)\n",
    "        print(f\"  Fold {fold+1} ---> MAP@3 Score = {score:.4f}\")\n",
    "\n",
    "    print(f\"Average MAP@3 score for {model.__class__.__name__} = {np.mean(scores):.4f}\\n\")"
   ]
  },
  {
   "cell_type": "raw",
   "id": "bd024990-32d1-4315-adfd-03cedec56c2c",
   "metadata": {},
   "source": [
    "from xgboost import plot_importance\n",
    "\n",
    "plot_importance(model, max_num_features=15)\n",
    "plt.show()"
   ]
  },
  {
   "cell_type": "raw",
   "id": "a55e0a46-32b9-4c7e-93d2-3aab0f56123d",
   "metadata": {},
   "source": [
    "from sklearn.feature_selection import mutual_info_classif\n",
    "\n",
    "mi = mutual_info_classif(X, y)\n",
    "mi_series = pd.Series(mi, index=X.columns).sort_values(ascending=False)\n",
    "print(mi_series)"
   ]
  },
  {
   "cell_type": "markdown",
   "id": "52d770e3-2f4a-4c58-a158-e3192eb79594",
   "metadata": {},
   "source": [
    "## Submit the test data prediction"
   ]
  },
  {
   "cell_type": "markdown",
   "id": "23d1cebe-24c4-4073-a2b8-c0008a839e1d",
   "metadata": {},
   "source": [
    "[🔝 Return to top](#Steps)"
   ]
  },
  {
   "cell_type": "code",
   "execution_count": 15,
   "id": "bdafcf0d-cc96-46b3-bd1d-9b506929b194",
   "metadata": {},
   "outputs": [],
   "source": [
    "params = {\n",
    "    'n_estimators': 800,\n",
    "    'learning_rate': 0.03217095903889588,\n",
    "    'max_depth': 8,\n",
    "    'subsample': 0.8208104960302076,\n",
    "    'colsample_bytree': 0.6588310736593839,\n",
    "    'gamma': 0.0032831657530829235,\n",
    "    'reg_lambda': 8.963908695312456,\n",
    "    'reg_alpha': 0.04783339091017353\n",
    "}\n",
    "\n",
    "model = XGBClassifier(**params)\n",
    "\n",
    "model.fit(X,y)\n",
    "\n",
    "probs = model.predict_proba(test_data)\n",
    "top3_indices = np.argsort(probs , axis = 1)[ : , ::-1][:,:3]\n",
    "top3_labels = labeler.inverse_transform(top3_indices.ravel()).reshape(top3_indices.shape)\n",
    "\n",
    "pred_top3 = [' '.join(row) for row in top3_labels]"
   ]
  },
  {
   "cell_type": "code",
   "execution_count": 16,
   "id": "253b8885-4553-4564-a2cc-851c1f577816",
   "metadata": {},
   "outputs": [
    {
     "data": {
      "text/html": [
       "<div>\n",
       "<style scoped>\n",
       "    .dataframe tbody tr th:only-of-type {\n",
       "        vertical-align: middle;\n",
       "    }\n",
       "\n",
       "    .dataframe tbody tr th {\n",
       "        vertical-align: top;\n",
       "    }\n",
       "\n",
       "    .dataframe thead th {\n",
       "        text-align: right;\n",
       "    }\n",
       "</style>\n",
       "<table border=\"1\" class=\"dataframe\">\n",
       "  <thead>\n",
       "    <tr style=\"text-align: right;\">\n",
       "      <th></th>\n",
       "      <th>id</th>\n",
       "      <th>Fertilizer Name</th>\n",
       "    </tr>\n",
       "  </thead>\n",
       "  <tbody>\n",
       "    <tr>\n",
       "      <th>0</th>\n",
       "      <td>750000</td>\n",
       "      <td>DAP 28-28 10-26-26</td>\n",
       "    </tr>\n",
       "    <tr>\n",
       "      <th>1</th>\n",
       "      <td>750001</td>\n",
       "      <td>17-17-17 20-20 Urea</td>\n",
       "    </tr>\n",
       "    <tr>\n",
       "      <th>2</th>\n",
       "      <td>750002</td>\n",
       "      <td>20-20 28-28 10-26-26</td>\n",
       "    </tr>\n",
       "    <tr>\n",
       "      <th>3</th>\n",
       "      <td>750003</td>\n",
       "      <td>14-35-14 17-17-17 Urea</td>\n",
       "    </tr>\n",
       "    <tr>\n",
       "      <th>4</th>\n",
       "      <td>750004</td>\n",
       "      <td>20-20 10-26-26 28-28</td>\n",
       "    </tr>\n",
       "  </tbody>\n",
       "</table>\n",
       "</div>"
      ],
      "text/plain": [
       "       id         Fertilizer Name\n",
       "0  750000      DAP 28-28 10-26-26\n",
       "1  750001     17-17-17 20-20 Urea\n",
       "2  750002    20-20 28-28 10-26-26\n",
       "3  750003  14-35-14 17-17-17 Urea\n",
       "4  750004    20-20 10-26-26 28-28"
      ]
     },
     "execution_count": 16,
     "metadata": {},
     "output_type": "execute_result"
    }
   ],
   "source": [
    "submission = pd.DataFrame({\n",
    "    \"id\" : test_data.index,\n",
    "    \"Fertilizer Name\" : pred_top3\n",
    "})\n",
    "\n",
    "submission.to_csv(\"submission.csv\", index = False) \n",
    "submission.head()"
   ]
  }
 ],
 "metadata": {
  "kernelspec": {
   "display_name": "Python 3 (ipykernel)",
   "language": "python",
   "name": "python3"
  },
  "language_info": {
   "codemirror_mode": {
    "name": "ipython",
    "version": 3
   },
   "file_extension": ".py",
   "mimetype": "text/x-python",
   "name": "python",
   "nbconvert_exporter": "python",
   "pygments_lexer": "ipython3",
   "version": "3.11.9"
  }
 },
 "nbformat": 4,
 "nbformat_minor": 5
}
