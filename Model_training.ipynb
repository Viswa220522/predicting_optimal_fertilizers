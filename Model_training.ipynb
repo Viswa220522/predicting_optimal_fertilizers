{
 "cells": [
  {
   "cell_type": "markdown",
   "id": "d11b66f9-954f-4996-a0a8-deb372ccf6a1",
   "metadata": {},
   "source": [
    "# Steps\n",
    "\n",
    "## 1. [Import the Libraries](#1.-Import-the-libraries)\n",
    "## 2. [Load the data](#2.-Load-the-Data)\n",
    "## 3. [Preprocessing](#3.-Preprocessing-the-Data)\n",
    "- 3.1 [OneHotEncoding](#3.1-OneHotEncoding-with-LabelEncoder)\n",
    "- 3.2 [Standard Scaling](#3.2-Standard-Scaling)\n",
    "## 4. [Data preparation](#4.-Data-Preparation)\n",
    "## 5. [Model training](#5.-Model-Training)\n",
    "## 6. [Model Evaluation](#6.-Mean-Average-Precision)\n",
    "- 6.1 [MAP@3 Score](#6.1-Model-Score)\n",
    "## 7. [Feature Engineering](#7.-Adding-New-Features)\n",
    "- 7.1 [Numeric Features](#7.1-Numerical-Columns)\n",
    "## [Submission](#Submit-the-test-data-prediction)"
   ]
  },
  {
   "cell_type": "markdown",
   "id": "e2a193ad-0f03-4088-af1c-c1c9d85c462a",
   "metadata": {
    "jp-MarkdownHeadingCollapsed": true
   },
   "source": [
    "## 1. Import the libraries"
   ]
  },
  {
   "cell_type": "markdown",
   "id": "9eea12bb-9b93-45a8-bfd4-de724f78c36a",
   "metadata": {},
   "source": [
    "[🔝 Return to top](#Steps)"
   ]
  },
  {
   "cell_type": "code",
   "execution_count": 1,
   "id": "95086287-f536-4072-9c08-68028ba0a216",
   "metadata": {},
   "outputs": [],
   "source": [
    "import numpy as np\n",
    "import pandas as pd\n",
    "import matplotlib.pyplot as plt\n",
    "import seaborn as sns\n",
    "\n",
    "from sklearn.model_selection import train_test_split\n",
    "from sklearn.preprocessing import LabelEncoder\n",
    "from sklearn.preprocessing import StandardScaler\n",
    "\n",
    "from xgboost import XGBClassifier, plot_importance\n",
    "from lightgbm import LGBMClassifier\n",
    "from catboost import CatBoostClassifier\n",
    "\n",
    "from sklearn.metrics import accuracy_score\n",
    "from sklearn.metrics import average_precision_score\n",
    "import warnings\n",
    "warnings.filterwarnings('ignore')"
   ]
  },
  {
   "cell_type": "markdown",
   "id": "74717095-8407-43bf-81d1-af7dbe796d6c",
   "metadata": {},
   "source": [
    "## 2. Load the Data"
   ]
  },
  {
   "cell_type": "markdown",
   "id": "f1e046a8-4274-4bf2-ad6c-13f441ea16fb",
   "metadata": {},
   "source": [
    "[🔝 Return to top](#Steps)"
   ]
  },
  {
   "cell_type": "code",
   "execution_count": 2,
   "id": "1f6b120f-4e91-4837-ad98-5d73d20360a5",
   "metadata": {},
   "outputs": [],
   "source": [
    "train_data = pd.read_csv('train.csv')\n",
    "test_data = pd.read_csv('test.csv')\n",
    "train_data.set_index('id', inplace = True)\n",
    "test_data.set_index('id', inplace = True)"
   ]
  },
  {
   "cell_type": "markdown",
   "id": "244acb3d-9725-4307-9a22-632fbb3951f1",
   "metadata": {},
   "source": [
    "## 3. Preprocessing the Data"
   ]
  },
  {
   "cell_type": "markdown",
   "id": "0eb09758-61ab-4b8f-aa9b-462aada815e1",
   "metadata": {},
   "source": [
    "[🔝 Return to top](#Steps)"
   ]
  },
  {
   "cell_type": "code",
   "execution_count": 3,
   "id": "8a0591f1-64da-47ca-9c90-e384e2145b3c",
   "metadata": {},
   "outputs": [],
   "source": [
    "numerical_columns = [ col for col in train_data.columns if train_data[col].dtype != 'O']\n",
    "#['Temparature', 'Humidity', 'Moisture', 'Nitrogen', 'Potassium', 'Phosphorous']\n",
    "categorical_columns = [col for col in train_data.columns if train_data[col].dtype == 'object']\n",
    "#['Soil Type', 'Crop Type', 'Fertilizer Name']"
   ]
  },
  {
   "cell_type": "code",
   "execution_count": 4,
   "id": "9d14cecc-d6c7-43ef-af3b-be1a8717b897",
   "metadata": {},
   "outputs": [
    {
     "data": {
      "text/plain": [
       "['Temparature', 'Humidity', 'Moisture', 'Nitrogen', 'Potassium', 'Phosphorous']"
      ]
     },
     "execution_count": 4,
     "metadata": {},
     "output_type": "execute_result"
    }
   ],
   "source": [
    "numerical_columns"
   ]
  },
  {
   "cell_type": "code",
   "execution_count": 5,
   "id": "82065f8d-6912-4c09-a560-2507ed15cc92",
   "metadata": {},
   "outputs": [
    {
     "data": {
      "text/html": [
       "<div>\n",
       "<style scoped>\n",
       "    .dataframe tbody tr th:only-of-type {\n",
       "        vertical-align: middle;\n",
       "    }\n",
       "\n",
       "    .dataframe tbody tr th {\n",
       "        vertical-align: top;\n",
       "    }\n",
       "\n",
       "    .dataframe thead th {\n",
       "        text-align: right;\n",
       "    }\n",
       "</style>\n",
       "<table border=\"1\" class=\"dataframe\">\n",
       "  <thead>\n",
       "    <tr style=\"text-align: right;\">\n",
       "      <th></th>\n",
       "      <th>Temparature</th>\n",
       "      <th>Humidity</th>\n",
       "      <th>Moisture</th>\n",
       "      <th>Soil Type</th>\n",
       "      <th>Crop Type</th>\n",
       "      <th>Nitrogen</th>\n",
       "      <th>Potassium</th>\n",
       "      <th>Phosphorous</th>\n",
       "      <th>Fertilizer Name</th>\n",
       "    </tr>\n",
       "    <tr>\n",
       "      <th>id</th>\n",
       "      <th></th>\n",
       "      <th></th>\n",
       "      <th></th>\n",
       "      <th></th>\n",
       "      <th></th>\n",
       "      <th></th>\n",
       "      <th></th>\n",
       "      <th></th>\n",
       "      <th></th>\n",
       "    </tr>\n",
       "  </thead>\n",
       "  <tbody>\n",
       "    <tr>\n",
       "      <th>0</th>\n",
       "      <td>37</td>\n",
       "      <td>70</td>\n",
       "      <td>36</td>\n",
       "      <td>Clayey</td>\n",
       "      <td>Sugarcane</td>\n",
       "      <td>36</td>\n",
       "      <td>4</td>\n",
       "      <td>5</td>\n",
       "      <td>28-28</td>\n",
       "    </tr>\n",
       "  </tbody>\n",
       "</table>\n",
       "</div>"
      ],
      "text/plain": [
       "    Temparature  Humidity  Moisture Soil Type  Crop Type  Nitrogen  Potassium  \\\n",
       "id                                                                              \n",
       "0            37        70        36    Clayey  Sugarcane        36          4   \n",
       "\n",
       "    Phosphorous Fertilizer Name  \n",
       "id                               \n",
       "0             5           28-28  "
      ]
     },
     "execution_count": 5,
     "metadata": {},
     "output_type": "execute_result"
    }
   ],
   "source": [
    "train_data.iloc[:1]"
   ]
  },
  {
   "cell_type": "markdown",
   "id": "664098b7-cde8-4dac-a12a-91d6a40dabdb",
   "metadata": {},
   "source": [
    "### 3.1 OneHotEncoding with LabelEncoder"
   ]
  },
  {
   "cell_type": "markdown",
   "id": "5a9c4cc9-685a-485d-8c19-ed9fe1da3554",
   "metadata": {},
   "source": [
    "[🔝 Return to top](#Steps)"
   ]
  },
  {
   "cell_type": "code",
   "execution_count": 6,
   "id": "6e09f33a-089c-448b-8977-1fdcaee8f539",
   "metadata": {},
   "outputs": [],
   "source": [
    "labeler = LabelEncoder()\n",
    "test_data['Fertilizer Name'] = 'z' # added column so that LabelEncoder can recognize while inverse_transform\n",
    "for col_name in categorical_columns:\n",
    "    test_data[col_name] = labeler.fit_transform(test_data[col_name])\n",
    "    train_data[col_name] = labeler.fit_transform(train_data[col_name])"
   ]
  },
  {
   "cell_type": "markdown",
   "id": "81239cd3-fd2a-4cb3-9ab9-7b6bfcf232b4",
   "metadata": {},
   "source": [
    "### 3.2 Standard Scaling"
   ]
  },
  {
   "cell_type": "markdown",
   "id": "c728514d-c4de-4560-b468-03122bd062a6",
   "metadata": {},
   "source": [
    "[🔝 Return to top](#Steps)"
   ]
  },
  {
   "cell_type": "raw",
   "id": "58ea2f6c-c53a-4397-9282-c0e3d2299c29",
   "metadata": {},
   "source": [
    "# Decreases the accuracy so not using\n",
    "scaler = StandardScaler()\n",
    "\n",
    "for col_name in numerical_columns:\n",
    "    train_data[col_name] = scaler.fit_transform(train_data[[col_name]])\n",
    "    test_data[col_name] = scaler.fit_transform(test_data[[col_name]])"
   ]
  },
  {
   "cell_type": "markdown",
   "id": "e0651543-1a10-4880-b426-ec139d28e043",
   "metadata": {},
   "source": [
    "## 4. Data Preparation"
   ]
  },
  {
   "cell_type": "markdown",
   "id": "07694d06-2b6c-4dd4-8af5-e358f55385d6",
   "metadata": {},
   "source": [
    "[🔝 Return to top](#Steps)"
   ]
  },
  {
   "cell_type": "code",
   "execution_count": 7,
   "id": "1991cc7b-15b5-4fdd-94da-bf0b2efbad3b",
   "metadata": {},
   "outputs": [],
   "source": [
    "X = train_data.drop(['Fertilizer Name'], axis = 1)\n",
    "y = train_data['Fertilizer Name']\n",
    "\n",
    "X_train, X_test, y_train, y_test = train_test_split(X, y, test_size = 0.2, random_state = 42)"
   ]
  },
  {
   "cell_type": "markdown",
   "id": "407150b9-7d6c-4549-9aba-d74a267f80c4",
   "metadata": {},
   "source": [
    "## 5. Model Training "
   ]
  },
  {
   "cell_type": "markdown",
   "id": "c3656879-65e3-41cf-8e69-88f06ec04056",
   "metadata": {},
   "source": [
    "[🔝 Return to top](#Steps)"
   ]
  },
  {
   "cell_type": "code",
   "execution_count": 8,
   "id": "9494b34a-0801-4f90-9d23-0bfed053efba",
   "metadata": {},
   "outputs": [],
   "source": [
    "model = XGBClassifier(\n",
    "    n_estimators=200,\n",
    "    learning_rate=0.05,\n",
    "    max_depth=6,\n",
    "    subsample=0.8,\n",
    "    colsample_bytree=0.8,\n",
    "    random_state=42,\n",
    "    use_label_encoder=False,\n",
    "    eval_metric='mlogloss'\n",
    ")\n",
    "\n",
    "model.fit(X_train, y_train)\n",
    "\n",
    "y_pred_proba = model.predict_proba(X_test)"
   ]
  },
  {
   "cell_type": "markdown",
   "id": "31da5840-86d8-429f-9be2-97ff1fe0c8c3",
   "metadata": {},
   "source": [
    "## 6. Mean Average Precision"
   ]
  },
  {
   "cell_type": "markdown",
   "id": "4011958d-0840-4e12-aa2a-33cff0e2c0c9",
   "metadata": {},
   "source": [
    "[🔝 Return to top](#Steps)"
   ]
  },
  {
   "cell_type": "code",
   "execution_count": 9,
   "id": "6daf1fe3-0533-449d-a540-6196a56faf7c",
   "metadata": {},
   "outputs": [],
   "source": [
    "# MAP@3\n",
    "def mapk(y_test, y_pred_proba,k =3):\n",
    "    top3_indices = np.argsort(y_pred_proba, axis = 1)[:, ::-1][ : ,:3]\n",
    "    sum_ap = 0\n",
    "\n",
    "    for indx, lst in enumerate(top3_indices):\n",
    "        true_label = y_test.iloc[indx]\n",
    "        '''\n",
    "        if true_label in lst:\n",
    "            ap = 1 / (list(lst).index(true_label) + 1)  \n",
    "        else:\n",
    "            ap = 0\n",
    "        '''\n",
    "                    # OR\n",
    "        \n",
    "        try:\n",
    "            ap = 1 / (list(lst).index(true_label) + 1)\n",
    "        except ValueError:\n",
    "            ap = 0\n",
    "\n",
    "        sum_ap += ap\n",
    "\n",
    "    return (sum_ap / len(y_test))"
   ]
  },
  {
   "cell_type": "markdown",
   "id": "0c15c6eb-ac35-4972-aaea-b9e3f888521f",
   "metadata": {},
   "source": [
    "### 6.1 Model Score"
   ]
  },
  {
   "cell_type": "code",
   "execution_count": 10,
   "id": "942d5b6d-edf0-459c-bc87-2559060d92b7",
   "metadata": {},
   "outputs": [
    {
     "data": {
      "text/plain": [
       "0.32288555555562565"
      ]
     },
     "execution_count": 10,
     "metadata": {},
     "output_type": "execute_result"
    }
   ],
   "source": [
    "mapk(y_test, y_pred_proba) # Before feature Engineering"
   ]
  },
  {
   "cell_type": "markdown",
   "id": "2a10d0c2-5bd3-4bfe-afc1-c45a2ee9495e",
   "metadata": {},
   "source": [
    "## 7. Adding New Features"
   ]
  },
  {
   "cell_type": "markdown",
   "id": "de10cd6b-16c0-4d93-96a6-443423b5627d",
   "metadata": {},
   "source": [
    "[🔝 Return to top](#Steps)"
   ]
  },
  {
   "cell_type": "markdown",
   "id": "c2da694e-439c-4806-8c16-1710174dfe17",
   "metadata": {},
   "source": [
    "### 7.1 Numerical Columns"
   ]
  },
  {
   "cell_type": "code",
   "execution_count": 11,
   "id": "4ff80cd9-05ab-47ef-b4b8-7503eaf19595",
   "metadata": {},
   "outputs": [],
   "source": [
    "# Adding Moisture + Humidity columns\n",
    "train_data['Moisture_Humidity'] = train_data['Moisture'] + train_data['Humidity']\n",
    "test_data['Moisture_Humidity'] = test_data['Moisture'] + test_data['Humidity']\n",
    "\n",
    "# Adding Potassium - Phosphorous columns\n",
    "train_data['Potassium_Phosphorous'] = train_data['Potassium'] * train_data['Phosphorous']\n",
    "test_data['Potassium_Phosphorous'] = test_data['Potassium'] * test_data['Phosphorous']\n",
    "\n",
    "# Adding Crop Type - Soil Type\n",
    "train_data['Crop_Soil'] = train_data['Crop Type'] - train_data['Soil Type']\n",
    "test_data['Crop_Soil'] = test_data['Crop Type'] - test_data['Soil Type']"
   ]
  },
  {
   "cell_type": "code",
   "execution_count": 14,
   "id": "9387d76d-4e05-4452-8f9a-0ca5085a845c",
   "metadata": {},
   "outputs": [
    {
     "data": {
      "text/plain": [
       "Fertilizer Name          1.000000\n",
       "Soil Type                0.016576\n",
       "Moisture_Humidity        0.015207\n",
       "Moisture                 0.011493\n",
       "Humidity                 0.010626\n",
       "Temparature              0.001727\n",
       "Nitrogen                -0.004725\n",
       "Phosphorous             -0.006127\n",
       "Potassium               -0.010872\n",
       "Potassium_Phosphorous   -0.011589\n",
       "Crop Type               -0.013041\n",
       "Crop_Soil               -0.018704\n",
       "Name: Fertilizer Name, dtype: float64"
      ]
     },
     "execution_count": 14,
     "metadata": {},
     "output_type": "execute_result"
    }
   ],
   "source": [
    "train_data.corr()['Fertilizer Name'].sort_values(ascending = False)"
   ]
  },
  {
   "cell_type": "raw",
   "id": "60f305a5-44bd-445d-b094-ec2a7618b490",
   "metadata": {},
   "source": [
    "+ ->  \n",
    "* ->  \n",
    "- ->  \n",
    "/ ->  "
   ]
  },
  {
   "cell_type": "code",
   "execution_count": 15,
   "id": "67afacce-84fc-487d-963a-4b960437dffc",
   "metadata": {},
   "outputs": [],
   "source": [
    "X = train_data.drop(['Fertilizer Name'], axis = 1)\n",
    "y = train_data['Fertilizer Name']\n",
    "\n",
    "X_train, X_test, y_train, y_test = train_test_split(X, y, test_size = 0.2, random_state = 42)\n",
    "\n",
    "f_model = XGBClassifier(\n",
    "    n_estimators=200,\n",
    "    learning_rate=0.05,\n",
    "    max_depth=6,\n",
    "    subsample=0.8,\n",
    "    colsample_bytree=0.8,\n",
    "    random_state=42,\n",
    "    use_label_encoder=False,\n",
    "    eval_metric='mlogloss'\n",
    ")\n",
    "\n",
    "f_model.fit(X_train, y_train)\n",
    "y_pred_proba = f_model.predict_proba(X_test)"
   ]
  },
  {
   "cell_type": "code",
   "execution_count": 16,
   "id": "9e7f7e1e-a9f1-4596-aeea-a675af6634e6",
   "metadata": {},
   "outputs": [
    {
     "data": {
      "text/plain": [
       "0.320773333333403"
      ]
     },
     "execution_count": 16,
     "metadata": {},
     "output_type": "execute_result"
    }
   ],
   "source": [
    "mapk(y_test, y_pred_proba) # After feature Engineering"
   ]
  },
  {
   "cell_type": "code",
   "execution_count": 19,
   "id": "129114f2-38e6-40f6-942e-5adc8da5a505",
   "metadata": {},
   "outputs": [
    {
     "data": {
      "image/png": "[encoded data removed]",
      "text/plain": [
       "<Figure size 640x480 with 1 Axes>"
      ]
     },
     "metadata": {},
     "output_type": "display_data"
    }
   ],
   "source": [
    "from xgboost import plot_importance\n",
    "\n",
    "plot_importance(model, max_num_features=15)\n",
    "plt.show()"
   ]
  },
  {
   "cell_type": "code",
   "execution_count": 20,
   "id": "6b9f6d90-7646-41a6-a436-c0f68f41c624",
   "metadata": {},
   "outputs": [
    {
     "name": "stdout",
     "output_type": "stream",
     "text": [
      "Soil Type                0.007155\n",
      "Crop Type                0.004768\n",
      "Phosphorous              0.004719\n",
      "Moisture                 0.003478\n",
      "Crop_Soil                0.003111\n",
      "Potassium_Phosphorous    0.002191\n",
      "Temparature              0.002025\n",
      "Potassium                0.001992\n",
      "Moisture_Humidity        0.001843\n",
      "Nitrogen                 0.001752\n",
      "Humidity                 0.001361\n",
      "dtype: float64\n"
     ]
    }
   ],
   "source": [
    "from sklearn.feature_selection import mutual_info_classif\n",
    "\n",
    "mi = mutual_info_classif(X, y)\n",
    "mi_series = pd.Series(mi, index=X.columns).sort_values(ascending=False)\n",
    "print(mi_series)"
   ]
  },
  {
   "cell_type": "markdown",
   "id": "52d770e3-2f4a-4c58-a158-e3192eb79594",
   "metadata": {},
   "source": [
    "## Submit the test data prediction"
   ]
  },
  {
   "cell_type": "markdown",
   "id": "23d1cebe-24c4-4073-a2b8-c0008a839e1d",
   "metadata": {},
   "source": [
    "[🔝 Return to top](#Steps)"
   ]
  },
  {
   "cell_type": "code",
   "execution_count": 17,
   "id": "f1fd3115-70cd-46c6-8183-d843b3903618",
   "metadata": {},
   "outputs": [],
   "source": [
    "model = XGBClassifier(\n",
    "    n_estimators=200,\n",
    "    learning_rate=0.05,\n",
    "    max_depth=6,\n",
    "    subsample=0.8,\n",
    "    colsample_bytree=0.8,\n",
    "    random_state=42,\n",
    "    use_label_encoder=False,\n",
    "    eval_metric='mlogloss'\n",
    ")\n",
    "\n",
    "model.fit(X,y)\n",
    "\n",
    "probs = model.predict_proba(test_data.drop(['Fertilizer Name'], axis =1))\n",
    "top3_indices = np.argsort(probs , axis = 1)[ : , ::-1][:,:3]\n",
    "top3_labels = labeler.inverse_transform(top3_indices.ravel()).reshape(top3_indices.shape)\n",
    "\n",
    "pred_top3 = [' '.join(row) for row in top3_labels]"
   ]
  },
  {
   "cell_type": "code",
   "execution_count": 18,
   "id": "ebacceac-a09f-4dd6-8d50-18907a551b3f",
   "metadata": {},
   "outputs": [
    {
     "data": {
      "text/html": [
       "<div>\n",
       "<style scoped>\n",
       "    .dataframe tbody tr th:only-of-type {\n",
       "        vertical-align: middle;\n",
       "    }\n",
       "\n",
       "    .dataframe tbody tr th {\n",
       "        vertical-align: top;\n",
       "    }\n",
       "\n",
       "    .dataframe thead th {\n",
       "        text-align: right;\n",
       "    }\n",
       "</style>\n",
       "<table border=\"1\" class=\"dataframe\">\n",
       "  <thead>\n",
       "    <tr style=\"text-align: right;\">\n",
       "      <th></th>\n",
       "      <th>id</th>\n",
       "      <th>Fertilizer Name</th>\n",
       "    </tr>\n",
       "  </thead>\n",
       "  <tbody>\n",
       "    <tr>\n",
       "      <th>0</th>\n",
       "      <td>750000</td>\n",
       "      <td>DAP 28-28 14-35-14</td>\n",
       "    </tr>\n",
       "    <tr>\n",
       "      <th>1</th>\n",
       "      <td>750001</td>\n",
       "      <td>17-17-17 20-20 10-26-26</td>\n",
       "    </tr>\n",
       "    <tr>\n",
       "      <th>2</th>\n",
       "      <td>750002</td>\n",
       "      <td>14-35-14 10-26-26 20-20</td>\n",
       "    </tr>\n",
       "    <tr>\n",
       "      <th>3</th>\n",
       "      <td>750003</td>\n",
       "      <td>14-35-14 17-17-17 Urea</td>\n",
       "    </tr>\n",
       "    <tr>\n",
       "      <th>4</th>\n",
       "      <td>750004</td>\n",
       "      <td>20-20 10-26-26 17-17-17</td>\n",
       "    </tr>\n",
       "  </tbody>\n",
       "</table>\n",
       "</div>"
      ],
      "text/plain": [
       "       id          Fertilizer Name\n",
       "0  750000       DAP 28-28 14-35-14\n",
       "1  750001  17-17-17 20-20 10-26-26\n",
       "2  750002  14-35-14 10-26-26 20-20\n",
       "3  750003   14-35-14 17-17-17 Urea\n",
       "4  750004  20-20 10-26-26 17-17-17"
      ]
     },
     "execution_count": 18,
     "metadata": {},
     "output_type": "execute_result"
    }
   ],
   "source": [
    "submission = pd.DataFrame({\n",
    "    \"id\" : test_data.index,\n",
    "    \"Fertilizer Name\" : pred_top3\n",
    "})\n",
    "\n",
    "submission.to_csv(\"submission.csv\", index = False) \n",
    "submission.head()"
   ]
  }
 ],
 "metadata": {
  "kernelspec": {
   "display_name": "Python 3 (ipykernel)",
   "language": "python",
   "name": "python3"
  },
  "language_info": {
   "codemirror_mode": {
    "name": "ipython",
    "version": 3
   },
   "file_extension": ".py",
   "mimetype": "text/x-python",
   "name": "python",
   "nbconvert_exporter": "python",
   "pygments_lexer": "ipython3",
   "version": "3.11.9"
  }
 },
 "nbformat": 4,
 "nbformat_minor": 5
}
