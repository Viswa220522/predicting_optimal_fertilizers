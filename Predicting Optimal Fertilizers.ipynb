{
 "cells": [
  {
   "cell_type": "markdown",
   "id": "d11b66f9-954f-4996-a0a8-deb372ccf6a1",
   "metadata": {},
   "source": [
    "# Steps\n",
    "# 1 Import the Libraries\n",
    "# 2 Load the data\n",
    "# 3 Preprocessing\n",
    "* 3.1 OneHotEncoding\n",
    "* 3.2 Standard Scaling\n",
    "# 4 Data preparation\n",
    "# 5 Model Training\n",
    "# 6 Model Evaluation"
   ]
  },
  {
   "cell_type": "code",
   "execution_count": null,
   "id": "4fd29183-9c67-4ad8-bb45-87f766d53641",
   "metadata": {},
   "outputs": [],
   "source": []
  },
  {
   "cell_type": "markdown",
   "id": "e2a193ad-0f03-4088-af1c-c1c9d85c462a",
   "metadata": {},
   "source": [
    "# 1 Import the libraries"
   ]
  },
  {
   "cell_type": "code",
   "execution_count": 1,
   "id": "95086287-f536-4072-9c08-68028ba0a216",
   "metadata": {},
   "outputs": [],
   "source": [
    "import numpy as np\n",
    "import pandas as pd\n",
    "import matplotlib as plt\n",
    "import seaborn as sns\n",
    "\n",
    "from sklearn.model_selection import train_test_split\n",
    "\n",
    "from sklearn.ensemble import RandomForestClassifier\n",
    "from xgboost import XGBClassifier\n",
    "from sklearn.linear_model import LogisticRegression\n",
    "from sklearn.tree import DecisionTreeClassifier\n",
    "from sklearn.svm import SVC\n",
    "\n",
    "from lightgbm import LGBMClassifier\n",
    "from catboost import CatBoostClassifier\n",
    "\n",
    "from sklearn.metrics import accuracy_score\n",
    "from sklearn.metrics import average_precision_score\n",
    "import warnings\n",
    "warnings.filterwarnings('ignore')"
   ]
  },
  {
   "cell_type": "markdown",
   "id": "74717095-8407-43bf-81d1-af7dbe796d6c",
   "metadata": {},
   "source": [
    "# 2 Load the data"
   ]
  },
  {
   "cell_type": "code",
   "execution_count": 2,
   "id": "1f6b120f-4e91-4837-ad98-5d73d20360a5",
   "metadata": {},
   "outputs": [],
   "source": [
    "train_data = pd.read_csv('train.csv')\n",
    "test_data = pd.read_csv('test.csv')"
   ]
  },
  {
   "cell_type": "code",
   "execution_count": 3,
   "id": "8fa0855c-3c67-4b60-987c-c197f62804a2",
   "metadata": {},
   "outputs": [
    {
     "name": "stdout",
     "output_type": "stream",
     "text": [
      "(750000, 10)\n",
      "(250000, 9)\n",
      "Index(['id', 'Temparature', 'Humidity', 'Moisture', 'Soil Type', 'Crop Type',\n",
      "       'Nitrogen', 'Potassium', 'Phosphorous', 'Fertilizer Name'],\n",
      "      dtype='object')\n"
     ]
    }
   ],
   "source": [
    "print(train_data.shape) # target column is 'Fertilizer Name'\n",
    "print(test_data.shape)\n",
    "print(train_data.columns) "
   ]
  },
  {
   "cell_type": "code",
   "execution_count": 4,
   "id": "d1fb47ca-7c01-4689-b5fa-902766aaae43",
   "metadata": {},
   "outputs": [
    {
     "name": "stdout",
     "output_type": "stream",
     "text": [
      "(1000000, 9)\n"
     ]
    }
   ],
   "source": [
    "##################################\n",
    "##club both train and test data ##\n",
    "##################################\n",
    "test_data['Fertilizer Name'] = 'x'\n",
    "df = pd.concat([train_data, test_data], axis = 0)\n",
    "df.set_index('id', inplace = True)\n",
    "print(df.shape) # Ten lakh rows"
   ]
  },
  {
   "cell_type": "code",
   "execution_count": 5,
   "id": "85ffffd2-91dc-4975-8e80-f15a37b8d463",
   "metadata": {
    "scrolled": true
   },
   "outputs": [
    {
     "data": {
      "text/html": [
       "<div>\n",
       "<style scoped>\n",
       "    .dataframe tbody tr th:only-of-type {\n",
       "        vertical-align: middle;\n",
       "    }\n",
       "\n",
       "    .dataframe tbody tr th {\n",
       "        vertical-align: top;\n",
       "    }\n",
       "\n",
       "    .dataframe thead th {\n",
       "        text-align: right;\n",
       "    }\n",
       "</style>\n",
       "<table border=\"1\" class=\"dataframe\">\n",
       "  <thead>\n",
       "    <tr style=\"text-align: right;\">\n",
       "      <th></th>\n",
       "      <th>Temparature</th>\n",
       "      <th>Humidity</th>\n",
       "      <th>Moisture</th>\n",
       "      <th>Soil Type</th>\n",
       "      <th>Crop Type</th>\n",
       "      <th>Nitrogen</th>\n",
       "      <th>Potassium</th>\n",
       "      <th>Phosphorous</th>\n",
       "      <th>Fertilizer Name</th>\n",
       "    </tr>\n",
       "    <tr>\n",
       "      <th>id</th>\n",
       "      <th></th>\n",
       "      <th></th>\n",
       "      <th></th>\n",
       "      <th></th>\n",
       "      <th></th>\n",
       "      <th></th>\n",
       "      <th></th>\n",
       "      <th></th>\n",
       "      <th></th>\n",
       "    </tr>\n",
       "  </thead>\n",
       "  <tbody>\n",
       "    <tr>\n",
       "      <th>0</th>\n",
       "      <td>37</td>\n",
       "      <td>70</td>\n",
       "      <td>36</td>\n",
       "      <td>Clayey</td>\n",
       "      <td>Sugarcane</td>\n",
       "      <td>36</td>\n",
       "      <td>4</td>\n",
       "      <td>5</td>\n",
       "      <td>28-28</td>\n",
       "    </tr>\n",
       "    <tr>\n",
       "      <th>1</th>\n",
       "      <td>27</td>\n",
       "      <td>69</td>\n",
       "      <td>65</td>\n",
       "      <td>Sandy</td>\n",
       "      <td>Millets</td>\n",
       "      <td>30</td>\n",
       "      <td>6</td>\n",
       "      <td>18</td>\n",
       "      <td>28-28</td>\n",
       "    </tr>\n",
       "    <tr>\n",
       "      <th>2</th>\n",
       "      <td>29</td>\n",
       "      <td>63</td>\n",
       "      <td>32</td>\n",
       "      <td>Sandy</td>\n",
       "      <td>Millets</td>\n",
       "      <td>24</td>\n",
       "      <td>12</td>\n",
       "      <td>16</td>\n",
       "      <td>17-17-17</td>\n",
       "    </tr>\n",
       "    <tr>\n",
       "      <th>3</th>\n",
       "      <td>35</td>\n",
       "      <td>62</td>\n",
       "      <td>54</td>\n",
       "      <td>Sandy</td>\n",
       "      <td>Barley</td>\n",
       "      <td>39</td>\n",
       "      <td>12</td>\n",
       "      <td>4</td>\n",
       "      <td>10-26-26</td>\n",
       "    </tr>\n",
       "    <tr>\n",
       "      <th>4</th>\n",
       "      <td>35</td>\n",
       "      <td>58</td>\n",
       "      <td>43</td>\n",
       "      <td>Red</td>\n",
       "      <td>Paddy</td>\n",
       "      <td>37</td>\n",
       "      <td>2</td>\n",
       "      <td>16</td>\n",
       "      <td>DAP</td>\n",
       "    </tr>\n",
       "    <tr>\n",
       "      <th>...</th>\n",
       "      <td>...</td>\n",
       "      <td>...</td>\n",
       "      <td>...</td>\n",
       "      <td>...</td>\n",
       "      <td>...</td>\n",
       "      <td>...</td>\n",
       "      <td>...</td>\n",
       "      <td>...</td>\n",
       "      <td>...</td>\n",
       "    </tr>\n",
       "    <tr>\n",
       "      <th>999995</th>\n",
       "      <td>26</td>\n",
       "      <td>66</td>\n",
       "      <td>30</td>\n",
       "      <td>Red</td>\n",
       "      <td>Sugarcane</td>\n",
       "      <td>14</td>\n",
       "      <td>7</td>\n",
       "      <td>18</td>\n",
       "      <td>x</td>\n",
       "    </tr>\n",
       "    <tr>\n",
       "      <th>999996</th>\n",
       "      <td>33</td>\n",
       "      <td>62</td>\n",
       "      <td>55</td>\n",
       "      <td>Red</td>\n",
       "      <td>Pulses</td>\n",
       "      <td>28</td>\n",
       "      <td>14</td>\n",
       "      <td>7</td>\n",
       "      <td>x</td>\n",
       "    </tr>\n",
       "    <tr>\n",
       "      <th>999997</th>\n",
       "      <td>36</td>\n",
       "      <td>53</td>\n",
       "      <td>64</td>\n",
       "      <td>Black</td>\n",
       "      <td>Paddy</td>\n",
       "      <td>28</td>\n",
       "      <td>11</td>\n",
       "      <td>27</td>\n",
       "      <td>x</td>\n",
       "    </tr>\n",
       "    <tr>\n",
       "      <th>999998</th>\n",
       "      <td>36</td>\n",
       "      <td>67</td>\n",
       "      <td>26</td>\n",
       "      <td>Clayey</td>\n",
       "      <td>Paddy</td>\n",
       "      <td>33</td>\n",
       "      <td>0</td>\n",
       "      <td>10</td>\n",
       "      <td>x</td>\n",
       "    </tr>\n",
       "    <tr>\n",
       "      <th>999999</th>\n",
       "      <td>35</td>\n",
       "      <td>63</td>\n",
       "      <td>36</td>\n",
       "      <td>Clayey</td>\n",
       "      <td>Ground Nuts</td>\n",
       "      <td>29</td>\n",
       "      <td>2</td>\n",
       "      <td>13</td>\n",
       "      <td>x</td>\n",
       "    </tr>\n",
       "  </tbody>\n",
       "</table>\n",
       "<p>1000000 rows × 9 columns</p>\n",
       "</div>"
      ],
      "text/plain": [
       "        Temparature  Humidity  Moisture Soil Type    Crop Type  Nitrogen  \\\n",
       "id                                                                         \n",
       "0                37        70        36    Clayey    Sugarcane        36   \n",
       "1                27        69        65     Sandy      Millets        30   \n",
       "2                29        63        32     Sandy      Millets        24   \n",
       "3                35        62        54     Sandy       Barley        39   \n",
       "4                35        58        43       Red        Paddy        37   \n",
       "...             ...       ...       ...       ...          ...       ...   \n",
       "999995           26        66        30       Red    Sugarcane        14   \n",
       "999996           33        62        55       Red       Pulses        28   \n",
       "999997           36        53        64     Black        Paddy        28   \n",
       "999998           36        67        26    Clayey        Paddy        33   \n",
       "999999           35        63        36    Clayey  Ground Nuts        29   \n",
       "\n",
       "        Potassium  Phosphorous Fertilizer Name  \n",
       "id                                              \n",
       "0               4            5           28-28  \n",
       "1               6           18           28-28  \n",
       "2              12           16        17-17-17  \n",
       "3              12            4        10-26-26  \n",
       "4               2           16             DAP  \n",
       "...           ...          ...             ...  \n",
       "999995          7           18               x  \n",
       "999996         14            7               x  \n",
       "999997         11           27               x  \n",
       "999998          0           10               x  \n",
       "999999          2           13               x  \n",
       "\n",
       "[1000000 rows x 9 columns]"
      ]
     },
     "execution_count": 5,
     "metadata": {},
     "output_type": "execute_result"
    }
   ],
   "source": [
    "df"
   ]
  },
  {
   "cell_type": "code",
   "execution_count": 6,
   "id": "4e633640-7dd1-4366-ba47-7553dda9059d",
   "metadata": {},
   "outputs": [],
   "source": [
    "col_dict = {\n",
    "    'Temparature': 'temperature',\n",
    "    'Humidity': 'humidity',\n",
    "    'Moisture':'moisture',\n",
    "    'Soil Type' : 'soil_type',\n",
    "    'Crop Type' : 'crop_type',\n",
    "    'Nitrogen' : 'nitrogen',\n",
    "    'Potassium' : 'potassium',\n",
    "    'Phosphorous' : 'phosphorous',\n",
    "    'Fertilizer Name' : 'fertilizer_name'\n",
    "}\n",
    "\n",
    "df = df.rename(columns = col_dict)"
   ]
  },
  {
   "cell_type": "code",
   "execution_count": 7,
   "id": "281b5035-f9d2-448d-8fd9-05b6ac146e6f",
   "metadata": {},
   "outputs": [
    {
     "data": {
      "text/plain": [
       "Index(['temperature', 'humidity', 'moisture', 'soil_type', 'crop_type',\n",
       "       'nitrogen', 'potassium', 'phosphorous', 'fertilizer_name'],\n",
       "      dtype='object')"
      ]
     },
     "execution_count": 7,
     "metadata": {},
     "output_type": "execute_result"
    }
   ],
   "source": [
    "df.columns"
   ]
  },
  {
   "cell_type": "code",
   "execution_count": 8,
   "id": "ba081772-1c7a-4f77-9cd6-940b30741384",
   "metadata": {
    "scrolled": true
   },
   "outputs": [
    {
     "name": "stdout",
     "output_type": "stream",
     "text": [
      "<class 'pandas.core.frame.DataFrame'>\n",
      "Index: 1000000 entries, 0 to 999999\n",
      "Data columns (total 9 columns):\n",
      " #   Column           Non-Null Count    Dtype \n",
      "---  ------           --------------    ----- \n",
      " 0   temperature      1000000 non-null  int64 \n",
      " 1   humidity         1000000 non-null  int64 \n",
      " 2   moisture         1000000 non-null  int64 \n",
      " 3   soil_type        1000000 non-null  object\n",
      " 4   crop_type        1000000 non-null  object\n",
      " 5   nitrogen         1000000 non-null  int64 \n",
      " 6   potassium        1000000 non-null  int64 \n",
      " 7   phosphorous      1000000 non-null  int64 \n",
      " 8   fertilizer_name  1000000 non-null  object\n",
      "dtypes: int64(6), object(3)\n",
      "memory usage: 76.3+ MB\n"
     ]
    }
   ],
   "source": [
    "df.info()"
   ]
  },
  {
   "cell_type": "code",
   "execution_count": 9,
   "id": "618269d3-edf9-4c32-b86e-297bc3b7630d",
   "metadata": {
    "scrolled": true
   },
   "outputs": [
    {
     "data": {
      "text/html": [
       "<div>\n",
       "<style scoped>\n",
       "    .dataframe tbody tr th:only-of-type {\n",
       "        vertical-align: middle;\n",
       "    }\n",
       "\n",
       "    .dataframe tbody tr th {\n",
       "        vertical-align: top;\n",
       "    }\n",
       "\n",
       "    .dataframe thead th {\n",
       "        text-align: right;\n",
       "    }\n",
       "</style>\n",
       "<table border=\"1\" class=\"dataframe\">\n",
       "  <thead>\n",
       "    <tr style=\"text-align: right;\">\n",
       "      <th></th>\n",
       "      <th>temperature</th>\n",
       "      <th>humidity</th>\n",
       "      <th>moisture</th>\n",
       "      <th>nitrogen</th>\n",
       "      <th>potassium</th>\n",
       "      <th>phosphorous</th>\n",
       "    </tr>\n",
       "  </thead>\n",
       "  <tbody>\n",
       "    <tr>\n",
       "      <th>count</th>\n",
       "      <td>1000000.0</td>\n",
       "      <td>1000000.0</td>\n",
       "      <td>1000000.0</td>\n",
       "      <td>1000000.0</td>\n",
       "      <td>1000000.0</td>\n",
       "      <td>1000000.0</td>\n",
       "    </tr>\n",
       "    <tr>\n",
       "      <th>mean</th>\n",
       "      <td>31.5</td>\n",
       "      <td>61.0</td>\n",
       "      <td>45.2</td>\n",
       "      <td>23.1</td>\n",
       "      <td>9.5</td>\n",
       "      <td>21.1</td>\n",
       "    </tr>\n",
       "    <tr>\n",
       "      <th>std</th>\n",
       "      <td>4.0</td>\n",
       "      <td>6.6</td>\n",
       "      <td>11.8</td>\n",
       "      <td>11.2</td>\n",
       "      <td>5.8</td>\n",
       "      <td>12.4</td>\n",
       "    </tr>\n",
       "    <tr>\n",
       "      <th>min</th>\n",
       "      <td>25.0</td>\n",
       "      <td>50.0</td>\n",
       "      <td>25.0</td>\n",
       "      <td>4.0</td>\n",
       "      <td>0.0</td>\n",
       "      <td>0.0</td>\n",
       "    </tr>\n",
       "    <tr>\n",
       "      <th>25%</th>\n",
       "      <td>28.0</td>\n",
       "      <td>55.0</td>\n",
       "      <td>35.0</td>\n",
       "      <td>13.0</td>\n",
       "      <td>4.0</td>\n",
       "      <td>10.0</td>\n",
       "    </tr>\n",
       "    <tr>\n",
       "      <th>50%</th>\n",
       "      <td>32.0</td>\n",
       "      <td>61.0</td>\n",
       "      <td>45.0</td>\n",
       "      <td>23.0</td>\n",
       "      <td>9.0</td>\n",
       "      <td>21.0</td>\n",
       "    </tr>\n",
       "    <tr>\n",
       "      <th>75%</th>\n",
       "      <td>35.0</td>\n",
       "      <td>67.0</td>\n",
       "      <td>55.0</td>\n",
       "      <td>33.0</td>\n",
       "      <td>14.0</td>\n",
       "      <td>32.0</td>\n",
       "    </tr>\n",
       "    <tr>\n",
       "      <th>max</th>\n",
       "      <td>38.0</td>\n",
       "      <td>72.0</td>\n",
       "      <td>65.0</td>\n",
       "      <td>42.0</td>\n",
       "      <td>19.0</td>\n",
       "      <td>42.0</td>\n",
       "    </tr>\n",
       "  </tbody>\n",
       "</table>\n",
       "</div>"
      ],
      "text/plain": [
       "       temperature   humidity   moisture   nitrogen  potassium  phosphorous\n",
       "count    1000000.0  1000000.0  1000000.0  1000000.0  1000000.0    1000000.0\n",
       "mean          31.5       61.0       45.2       23.1        9.5         21.1\n",
       "std            4.0        6.6       11.8       11.2        5.8         12.4\n",
       "min           25.0       50.0       25.0        4.0        0.0          0.0\n",
       "25%           28.0       55.0       35.0       13.0        4.0         10.0\n",
       "50%           32.0       61.0       45.0       23.0        9.0         21.0\n",
       "75%           35.0       67.0       55.0       33.0       14.0         32.0\n",
       "max           38.0       72.0       65.0       42.0       19.0         42.0"
      ]
     },
     "execution_count": 9,
     "metadata": {},
     "output_type": "execute_result"
    }
   ],
   "source": [
    "round(df.describe(),1)"
   ]
  },
  {
   "cell_type": "code",
   "execution_count": 10,
   "id": "43eddbb5-f00b-4f96-bbed-983c006f782b",
   "metadata": {
    "scrolled": true
   },
   "outputs": [
    {
     "data": {
      "text/plain": [
       "temperature        0\n",
       "humidity           0\n",
       "moisture           0\n",
       "soil_type          0\n",
       "crop_type          0\n",
       "nitrogen           0\n",
       "potassium          0\n",
       "phosphorous        0\n",
       "fertilizer_name    0\n",
       "dtype: int64"
      ]
     },
     "execution_count": 10,
     "metadata": {},
     "output_type": "execute_result"
    }
   ],
   "source": [
    "df.isna().sum() # No null values"
   ]
  },
  {
   "cell_type": "code",
   "execution_count": 11,
   "id": "5b935152-001d-4a6e-b654-6f965a485d25",
   "metadata": {},
   "outputs": [
    {
     "data": {
      "text/plain": [
       "np.int64(0)"
      ]
     },
     "execution_count": 11,
     "metadata": {},
     "output_type": "execute_result"
    }
   ],
   "source": [
    "df.duplicated().sum() # No duplicated rows\n",
    "#df.drop_duplicates() ->  to remove duplicates"
   ]
  },
  {
   "cell_type": "code",
   "execution_count": 12,
   "id": "741e0c7b-1eda-40a5-9382-a0f5d46664f2",
   "metadata": {},
   "outputs": [
    {
     "data": {
      "text/html": [
       "<div>\n",
       "<style scoped>\n",
       "    .dataframe tbody tr th:only-of-type {\n",
       "        vertical-align: middle;\n",
       "    }\n",
       "\n",
       "    .dataframe tbody tr th {\n",
       "        vertical-align: top;\n",
       "    }\n",
       "\n",
       "    .dataframe thead th {\n",
       "        text-align: right;\n",
       "    }\n",
       "</style>\n",
       "<table border=\"1\" class=\"dataframe\">\n",
       "  <thead>\n",
       "    <tr style=\"text-align: right;\">\n",
       "      <th></th>\n",
       "      <th>temperature</th>\n",
       "      <th>humidity</th>\n",
       "      <th>moisture</th>\n",
       "      <th>soil_type</th>\n",
       "      <th>crop_type</th>\n",
       "      <th>nitrogen</th>\n",
       "      <th>potassium</th>\n",
       "      <th>phosphorous</th>\n",
       "      <th>fertilizer_name</th>\n",
       "    </tr>\n",
       "    <tr>\n",
       "      <th>id</th>\n",
       "      <th></th>\n",
       "      <th></th>\n",
       "      <th></th>\n",
       "      <th></th>\n",
       "      <th></th>\n",
       "      <th></th>\n",
       "      <th></th>\n",
       "      <th></th>\n",
       "      <th></th>\n",
       "    </tr>\n",
       "  </thead>\n",
       "  <tbody>\n",
       "    <tr>\n",
       "      <th>0</th>\n",
       "      <td>37</td>\n",
       "      <td>70</td>\n",
       "      <td>36</td>\n",
       "      <td>Clayey</td>\n",
       "      <td>Sugarcane</td>\n",
       "      <td>36</td>\n",
       "      <td>4</td>\n",
       "      <td>5</td>\n",
       "      <td>28-28</td>\n",
       "    </tr>\n",
       "    <tr>\n",
       "      <th>1</th>\n",
       "      <td>27</td>\n",
       "      <td>69</td>\n",
       "      <td>65</td>\n",
       "      <td>Sandy</td>\n",
       "      <td>Millets</td>\n",
       "      <td>30</td>\n",
       "      <td>6</td>\n",
       "      <td>18</td>\n",
       "      <td>28-28</td>\n",
       "    </tr>\n",
       "  </tbody>\n",
       "</table>\n",
       "</div>"
      ],
      "text/plain": [
       "    temperature  humidity  moisture soil_type  crop_type  nitrogen  potassium  \\\n",
       "id                                                                              \n",
       "0            37        70        36    Clayey  Sugarcane        36          4   \n",
       "1            27        69        65     Sandy    Millets        30          6   \n",
       "\n",
       "    phosphorous fertilizer_name  \n",
       "id                               \n",
       "0             5           28-28  \n",
       "1            18           28-28  "
      ]
     },
     "execution_count": 12,
     "metadata": {},
     "output_type": "execute_result"
    }
   ],
   "source": [
    "df.head(2)"
   ]
  },
  {
   "cell_type": "code",
   "execution_count": 13,
   "id": "d4adda0c-3cd0-45f4-9152-0cdcb9e7825a",
   "metadata": {
    "scrolled": true
   },
   "outputs": [
    {
     "name": "stdout",
     "output_type": "stream",
     "text": [
      "soil_type\n",
      "Sandy     209033\n",
      "Black     201103\n",
      "Clayey    198174\n",
      "Red       197461\n",
      "Loamy     194229\n",
      "Name: count, dtype: int64\n",
      "--------------------------------\n",
      "crop_type\n",
      "Paddy          114086\n",
      "Pulses         104401\n",
      "Cotton          92262\n",
      "Tobacco         90728\n",
      "Wheat           88722\n",
      "Millets         87180\n",
      "Barley          86761\n",
      "Sugarcane       85836\n",
      "Oil seeds       85711\n",
      "Maize           83472\n",
      "Ground Nuts     80841\n",
      "Name: count, dtype: int64\n",
      "--------------------------------\n"
     ]
    },
    {
     "data": {
      "text/plain": [
       "fertilizer_name\n",
       "x           250000\n",
       "14-35-14    114436\n",
       "10-26-26    113887\n",
       "17-17-17    112453\n",
       "28-28       111158\n",
       "20-20       110889\n",
       "DAP          94860\n",
       "Urea         92317\n",
       "Name: count, dtype: int64"
      ]
     },
     "execution_count": 13,
     "metadata": {},
     "output_type": "execute_result"
    }
   ],
   "source": [
    "print(df['soil_type'].value_counts()) # 5 soil types\n",
    "print('--------------------------------')\n",
    "print(df['crop_type'].value_counts()) # 11 crop types\n",
    "print('--------------------------------')\n",
    "df['fertilizer_name'].value_counts()  # 7 fertilizers types"
   ]
  },
  {
   "cell_type": "code",
   "execution_count": 14,
   "id": "72d1c321-1fdd-46a9-8e08-2efc02cdc702",
   "metadata": {},
   "outputs": [
    {
     "data": {
      "text/plain": [
       "fertilizer_name\n",
       "7    250000\n",
       "1    114436\n",
       "2    113887\n",
       "3    112453\n",
       "4    111158\n",
       "5    110889\n",
       "6     94860\n",
       "0     92317\n",
       "Name: count, dtype: int64"
      ]
     },
     "execution_count": 14,
     "metadata": {},
     "output_type": "execute_result"
    }
   ],
   "source": [
    "fname_dict = {\n",
    "    'x' : 7,\n",
    "    '14-35-14': 1,\n",
    "    '10-26-26' : 2,\n",
    "    '17-17-17' : 3,\n",
    "    '28-28' : 4,\n",
    "    '20-20' : 5,\n",
    "    'DAP' : 6, \n",
    "    'Urea' : 0   \n",
    "}\n",
    "\n",
    "df['fertilizer_name'] = df['fertilizer_name'].map(fname_dict)\n",
    "df['fertilizer_name'].value_counts()"
   ]
  },
  {
   "cell_type": "code",
   "execution_count": 15,
   "id": "8facaf53-d4ac-426e-9c14-2a38eb02bcee",
   "metadata": {
    "scrolled": true
   },
   "outputs": [
    {
     "data": {
      "text/plain": [
       "id\n",
       "0         4\n",
       "1         4\n",
       "2         3\n",
       "3         2\n",
       "4         6\n",
       "         ..\n",
       "999995    7\n",
       "999996    7\n",
       "999997    7\n",
       "999998    7\n",
       "999999    7\n",
       "Name: fertilizer_name, Length: 1000000, dtype: int64"
      ]
     },
     "execution_count": 15,
     "metadata": {},
     "output_type": "execute_result"
    }
   ],
   "source": [
    "df['fertilizer_name']"
   ]
  },
  {
   "cell_type": "markdown",
   "id": "244acb3d-9725-4307-9a22-632fbb3951f1",
   "metadata": {},
   "source": [
    "# 3 Preprocessing"
   ]
  },
  {
   "cell_type": "markdown",
   "id": "664098b7-cde8-4dac-a12a-91d6a40dabdb",
   "metadata": {},
   "source": [
    "## 3.1 OneHotEncoding with dummy variables"
   ]
  },
  {
   "cell_type": "code",
   "execution_count": 16,
   "id": "3da36db9-4946-4570-ae1b-1a1e077388df",
   "metadata": {},
   "outputs": [],
   "source": [
    "category_column_names = [col for col in df.iloc[:, :8].columns if df[col].dtype ==  'O'] #['soil_type', 'crop_type']\n",
    "numeric_column_names = [ col   for col in df.iloc[:, :8].columns if df[col].dtype != 'object'] # 'O' or 'object' -> same\n",
    "# ['temperature', 'humidity', 'moisture', 'nitrogen', 'potassium', 'phosphorous']"
   ]
  },
  {
   "cell_type": "code",
   "execution_count": 17,
   "id": "5688b858-d711-460a-b1e5-baaa8511601d",
   "metadata": {},
   "outputs": [],
   "source": [
    "dummy_df = pd.get_dummies(df[category_column_names], dtype = int) # Converted into bool\n",
    "merged_df = pd.concat([df, dummy_df], axis = 1)\n",
    "merged_df.drop(category_column_names, axis = 1, inplace = True) # droped original columns"
   ]
  },
  {
   "cell_type": "code",
   "execution_count": 18,
   "id": "f2ef04f4-481e-44c4-a465-12da8f49967c",
   "metadata": {},
   "outputs": [
    {
     "data": {
      "text/plain": [
       "(1000000, 23)"
      ]
     },
     "execution_count": 18,
     "metadata": {},
     "output_type": "execute_result"
    }
   ],
   "source": [
    "merged_df.shape # 22 independent features and 1 dependent feature"
   ]
  },
  {
   "cell_type": "code",
   "execution_count": 19,
   "id": "3e48e748-3017-4d35-832b-264ae7d140a1",
   "metadata": {},
   "outputs": [
    {
     "name": "stdout",
     "output_type": "stream",
     "text": [
      "<class 'pandas.core.frame.DataFrame'>\n",
      "Index: 1000000 entries, 0 to 999999\n",
      "Data columns (total 23 columns):\n",
      " #   Column                 Non-Null Count    Dtype\n",
      "---  ------                 --------------    -----\n",
      " 0   temperature            1000000 non-null  int64\n",
      " 1   humidity               1000000 non-null  int64\n",
      " 2   moisture               1000000 non-null  int64\n",
      " 3   nitrogen               1000000 non-null  int64\n",
      " 4   potassium              1000000 non-null  int64\n",
      " 5   phosphorous            1000000 non-null  int64\n",
      " 6   fertilizer_name        1000000 non-null  int64\n",
      " 7   soil_type_Black        1000000 non-null  int64\n",
      " 8   soil_type_Clayey       1000000 non-null  int64\n",
      " 9   soil_type_Loamy        1000000 non-null  int64\n",
      " 10  soil_type_Red          1000000 non-null  int64\n",
      " 11  soil_type_Sandy        1000000 non-null  int64\n",
      " 12  crop_type_Barley       1000000 non-null  int64\n",
      " 13  crop_type_Cotton       1000000 non-null  int64\n",
      " 14  crop_type_Ground Nuts  1000000 non-null  int64\n",
      " 15  crop_type_Maize        1000000 non-null  int64\n",
      " 16  crop_type_Millets      1000000 non-null  int64\n",
      " 17  crop_type_Oil seeds    1000000 non-null  int64\n",
      " 18  crop_type_Paddy        1000000 non-null  int64\n",
      " 19  crop_type_Pulses       1000000 non-null  int64\n",
      " 20  crop_type_Sugarcane    1000000 non-null  int64\n",
      " 21  crop_type_Tobacco      1000000 non-null  int64\n",
      " 22  crop_type_Wheat        1000000 non-null  int64\n",
      "dtypes: int64(23)\n",
      "memory usage: 183.1 MB\n"
     ]
    }
   ],
   "source": [
    "merged_df.info()"
   ]
  },
  {
   "cell_type": "code",
   "execution_count": 20,
   "id": "5635e62f-3216-4664-9dcc-31684d88b898",
   "metadata": {},
   "outputs": [
    {
     "data": {
      "text/plain": [
       "temperature             -0.001021\n",
       "humidity                 0.003147\n",
       "moisture                 0.002780\n",
       "nitrogen                 0.001770\n",
       "potassium               -0.001834\n",
       "phosphorous             -0.000665\n",
       "fertilizer_name          1.000000\n",
       "soil_type_Black          0.000148\n",
       "soil_type_Clayey         0.001346\n",
       "soil_type_Loamy         -0.001301\n",
       "soil_type_Red           -0.002081\n",
       "soil_type_Sandy          0.001837\n",
       "crop_type_Barley        -0.002639\n",
       "crop_type_Cotton         0.000342\n",
       "crop_type_Ground Nuts   -0.001857\n",
       "crop_type_Maize         -0.003438\n",
       "crop_type_Millets       -0.002713\n",
       "crop_type_Oil seeds      0.001418\n",
       "crop_type_Paddy          0.000538\n",
       "crop_type_Pulses        -0.001663\n",
       "crop_type_Sugarcane      0.002596\n",
       "crop_type_Tobacco        0.004636\n",
       "crop_type_Wheat          0.002632\n",
       "Name: fertilizer_name, dtype: float64"
      ]
     },
     "execution_count": 20,
     "metadata": {},
     "output_type": "execute_result"
    }
   ],
   "source": [
    "merged_df.corr()['fertilizer_name']"
   ]
  },
  {
   "cell_type": "markdown",
   "id": "81239cd3-fd2a-4cb3-9ab9-7b6bfcf232b4",
   "metadata": {},
   "source": [
    "## 3.2 Standard Scaling"
   ]
  },
  {
   "cell_type": "code",
   "execution_count": 21,
   "id": "6ad47930-243d-47be-bdc7-0ccfed52055c",
   "metadata": {},
   "outputs": [
    {
     "data": {
      "text/plain": [
       "array([[ 1.3662452 ,  1.34834076, -0.77883206, ...,  3.26345269,\n",
       "        -0.31588119, -0.31202559],\n",
       "       [-1.11810167,  1.19784851,  1.67999831, ..., -0.30642393,\n",
       "        -0.31588119, -0.31202559],\n",
       "       [-0.6212323 ,  0.29489499, -1.11798108, ..., -0.30642393,\n",
       "        -0.31588119, -0.31202559],\n",
       "       ...,\n",
       "       [ 1.11781051, -1.21002754,  1.59521105, ..., -0.30642393,\n",
       "        -0.31588119, -0.31202559],\n",
       "       [ 1.11781051,  0.896864  , -1.6267046 , ..., -0.30642393,\n",
       "        -0.31588119, -0.31202559],\n",
       "       [ 0.86937582,  0.29489499, -0.77883206, ..., -0.30642393,\n",
       "        -0.31588119, -0.31202559]])"
      ]
     },
     "execution_count": 21,
     "metadata": {},
     "output_type": "execute_result"
    }
   ],
   "source": [
    "from sklearn.preprocessing import StandardScaler #Class imported\n",
    "\n",
    "scalar = StandardScaler()\n",
    "merged_df_t = scalar.fit_transform(merged_df.drop(['fertilizer_name'], axis = 1))\n",
    "merged_df_t"
   ]
  },
  {
   "cell_type": "markdown",
   "id": "e0651543-1a10-4880-b426-ec139d28e043",
   "metadata": {},
   "source": [
    "# 4 Data Preparation"
   ]
  },
  {
   "cell_type": "code",
   "execution_count": 22,
   "id": "1de8545f-db48-44df-93ac-36dc36403b98",
   "metadata": {},
   "outputs": [],
   "source": [
    "X = merged_df_t[:750000]\n",
    "y = df['fertilizer_name'][:750000].values"
   ]
  },
  {
   "cell_type": "code",
   "execution_count": 23,
   "id": "3e7594a4-87ce-4631-b01f-7bb8e57ad81e",
   "metadata": {},
   "outputs": [],
   "source": [
    "#from sklearn.model_selection import train_test_split\n",
    "\n",
    "X_train, X_test, y_train, y_test = train_test_split(X, y, test_size = 0.2, random_state = 42)"
   ]
  },
  {
   "cell_type": "markdown",
   "id": "ce06c6d4-3cfc-486e-a469-65a996bcef25",
   "metadata": {},
   "source": [
    "# 5 Model Training"
   ]
  },
  {
   "cell_type": "code",
   "execution_count": 24,
   "id": "9b615e72-ff13-4d49-994d-37084b327698",
   "metadata": {},
   "outputs": [
    {
     "data": {
      "text/plain": [
       "0.16458666666666666"
      ]
     },
     "execution_count": 24,
     "metadata": {},
     "output_type": "execute_result"
    }
   ],
   "source": [
    "model1 = RandomForestClassifier() # model creation\n",
    "model1.fit(X_train, y_train)\n",
    "y_pred = model1.predict(X_test)\n",
    "\n",
    "accuracy_score(y_test, y_pred) # 0.16578"
   ]
  },
  {
   "cell_type": "code",
   "execution_count": 25,
   "id": "c7abbe2a-1616-4b8e-9f44-30fb8ab4bfe1",
   "metadata": {
    "editable": true,
    "raw_mimetype": "",
    "slideshow": {
     "slide_type": ""
    },
    "tags": []
   },
   "outputs": [
    {
     "data": {
      "text/plain": [
       "0.19522"
      ]
     },
     "execution_count": 25,
     "metadata": {},
     "output_type": "execute_result"
    }
   ],
   "source": [
    "model2 = XGBClassifier()\n",
    "model2.fit(X_train, y_train)\n",
    "y_pred = model2.predict(X_test)\n",
    "\n",
    "accuracy_score(y_test, y_pred) # 0.19522"
   ]
  },
  {
   "cell_type": "code",
   "execution_count": 26,
   "id": "316d8367-63ec-480d-bd6a-bf638ed2eb3b",
   "metadata": {},
   "outputs": [
    {
     "data": {
      "text/plain": [
       "0.15909333333333334"
      ]
     },
     "execution_count": 26,
     "metadata": {},
     "output_type": "execute_result"
    }
   ],
   "source": [
    "model3 = LogisticRegression()\n",
    "model3.fit(X_train, y_train)\n",
    "y_pred = model3.predict(X_test)\n",
    "\n",
    "accuracy_score(y_test, y_pred) # 0.15909333333333334"
   ]
  },
  {
   "cell_type": "code",
   "execution_count": 27,
   "id": "69f5bacd-b33a-492e-b6a1-70330964a4c7",
   "metadata": {},
   "outputs": [
    {
     "data": {
      "text/plain": [
       "0.15218666666666666"
      ]
     },
     "execution_count": 27,
     "metadata": {},
     "output_type": "execute_result"
    }
   ],
   "source": [
    "model4 = DecisionTreeClassifier()\n",
    "model4.fit(X_train, y_train)\n",
    "y_pred = model4.predict(X_test)\n",
    "\n",
    "accuracy_score(y_test, y_pred) # 0.15110666666666667"
   ]
  },
  {
   "cell_type": "code",
   "execution_count": 28,
   "id": "7e465a3a-d952-410f-b108-03bd165d8bf8",
   "metadata": {},
   "outputs": [
    {
     "name": "stdout",
     "output_type": "stream",
     "text": [
      "[LightGBM] [Info] Auto-choosing row-wise multi-threading, the overhead of testing was 0.031332 seconds.\n",
      "You can set `force_row_wise=true` to remove the overhead.\n",
      "And if memory is not enough, you can set `force_col_wise=true`.\n",
      "[LightGBM] [Info] Total Bins 234\n",
      "[LightGBM] [Info] Number of data points in the train set: 600000, number of used features: 22\n",
      "[LightGBM] [Info] Start training from score -2.091474\n",
      "[LightGBM] [Info] Start training from score -1.877350\n",
      "[LightGBM] [Info] Start training from score -1.885565\n",
      "[LightGBM] [Info] Start training from score -1.900582\n",
      "[LightGBM] [Info] Start training from score -1.910836\n",
      "[LightGBM] [Info] Start training from score -1.909654\n",
      "[LightGBM] [Info] Start training from score -2.069993\n"
     ]
    },
    {
     "data": {
      "text/plain": [
       "0.18944666666666668"
      ]
     },
     "execution_count": 28,
     "metadata": {},
     "output_type": "execute_result"
    }
   ],
   "source": [
    "model5 = LGBMClassifier()\n",
    "model5.fit(X_train, y_train)\n",
    "y_pred = model5.predict(X_test)\n",
    "\n",
    "accuracy_score(y_test, y_pred) # 0.18944666666666668"
   ]
  },
  {
   "cell_type": "code",
   "execution_count": 29,
   "id": "baf9b51b-f8fe-4ad3-b8e6-6fe6317833e2",
   "metadata": {
    "scrolled": true
   },
   "outputs": [
    {
     "data": {
      "text/plain": [
       "0.19248666666666667"
      ]
     },
     "execution_count": 29,
     "metadata": {},
     "output_type": "execute_result"
    }
   ],
   "source": [
    "model6 = CatBoostClassifier(verbose=0)\n",
    "model6.fit(X_train, y_train)\n",
    "y_pred = model6.predict(X_test)\n",
    "\n",
    "accuracy_score(y_test, y_pred) # 0.19248666666666667"
   ]
  },
  {
   "cell_type": "markdown",
   "id": "59fd0afc-2cea-4854-9cd2-6fd9bc006f7c",
   "metadata": {},
   "source": [
    "#### Insights \n",
    "* accuracy score XGB>catboost>LGB>RandomForest"
   ]
  },
  {
   "cell_type": "code",
   "execution_count": null,
   "id": "d82fc019-da12-4f8b-99cc-2d71ac85f4e5",
   "metadata": {},
   "outputs": [],
   "source": []
  },
  {
   "cell_type": "code",
   "execution_count": null,
   "id": "ab488111-52a0-4e25-8488-9affd127d00d",
   "metadata": {},
   "outputs": [],
   "source": []
  }
 ],
 "metadata": {
  "kernelspec": {
   "display_name": "Python 3 (ipykernel)",
   "language": "python",
   "name": "python3"
  },
  "language_info": {
   "codemirror_mode": {
    "name": "ipython",
    "version": 3
   },
   "file_extension": ".py",
   "mimetype": "text/x-python",
   "name": "python",
   "nbconvert_exporter": "python",
   "pygments_lexer": "ipython3",
   "version": "3.11.9"
  }
 },
 "nbformat": 4,
 "nbformat_minor": 5
}
