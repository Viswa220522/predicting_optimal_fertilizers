{
 "cells": [
  {
   "cell_type": "markdown",
   "id": "d11b66f9-954f-4996-a0a8-deb372ccf6a1",
   "metadata": {},
   "source": [
    "# Steps\n",
    "\n",
    "## 1. [Import the Libraries](#1.-Import-the-libraries) \n",
    "## 2. [Load the Data](#2.-Load-the-data)\n",
    "## 3. [Data information](#3.-Understand-the-Data)\n",
    "- 3.2 [Code](#3.1-code)\n",
    "- 3.1 [Insights](#3.2-Insights-from-Data)\n",
    "## 4. [Visualize the Data](#4.-Explore-the-Data)"
   ]
  },
  {
   "cell_type": "markdown",
   "id": "e2a193ad-0f03-4088-af1c-c1c9d85c462a",
   "metadata": {},
   "source": [
    "## 1. Import the libraries"
   ]
  },
  {
   "cell_type": "code",
   "execution_count": 1,
   "id": "95086287-f536-4072-9c08-68028ba0a216",
   "metadata": {},
   "outputs": [],
   "source": [
    "import numpy as np\n",
    "import pandas as pd\n",
    "import matplotlib.pyplot as plt\n",
    "import seaborn as sns\n",
    "\n",
    "from sklearn.model_selection import train_test_split\n",
    "from sklearn.preprocessing import LabelEncoder\n",
    "\n",
    "from sklearn.ensemble import RandomForestClassifier\n",
    "from xgboost import XGBClassifier, plot_importance\n",
    "from sklearn.linear_model import LogisticRegression\n",
    "from sklearn.tree import DecisionTreeClassifier\n",
    "from sklearn.svm import SVC\n",
    "\n",
    "from lightgbm import LGBMClassifier\n",
    "from catboost import CatBoostClassifier\n",
    "\n",
    "from sklearn.metrics import accuracy_score\n",
    "from sklearn.metrics import average_precision_score\n",
    "import warnings\n",
    "warnings.filterwarnings('ignore')"
   ]
  },
  {
   "cell_type": "markdown",
   "id": "74717095-8407-43bf-81d1-af7dbe796d6c",
   "metadata": {},
   "source": [
    "## 2. Load the data"
   ]
  },
  {
   "cell_type": "markdown",
   "id": "e97939d4-731a-4f7a-89e7-7e4f4a8284d4",
   "metadata": {},
   "source": [
    "([🔝 Return to Top](#Steps))"
   ]
  },
  {
   "cell_type": "code",
   "execution_count": 2,
   "id": "1f6b120f-4e91-4837-ad98-5d73d20360a5",
   "metadata": {},
   "outputs": [],
   "source": [
    "train_data = pd.read_csv('train.csv')\n",
    "test_data = pd.read_csv('test.csv')"
   ]
  },
  {
   "cell_type": "markdown",
   "id": "e46b267f-d4d9-4813-9f1f-42ce5577ec86",
   "metadata": {},
   "source": [
    "## 3. Understand the Data"
   ]
  },
  {
   "cell_type": "markdown",
   "id": "0886ec97-484f-4856-bf4d-4486fd8043fd",
   "metadata": {},
   "source": [
    "([🔝 Return to Top](#Steps))"
   ]
  },
  {
   "cell_type": "markdown",
   "id": "a5e848ce-5599-4049-9fd0-c71273f73985",
   "metadata": {},
   "source": [
    "### 3.1 code"
   ]
  },
  {
   "cell_type": "code",
   "execution_count": 3,
   "id": "8fa0855c-3c67-4b60-987c-c197f62804a2",
   "metadata": {},
   "outputs": [
    {
     "name": "stdout",
     "output_type": "stream",
     "text": [
      "(750000, 10)\n",
      "(250000, 9)\n",
      "['id', 'Temparature', 'Humidity', 'Moisture', 'Soil Type', 'Crop Type', 'Nitrogen', 'Potassium', 'Phosphorous', 'Fertilizer Name']\n"
     ]
    }
   ],
   "source": [
    "print(train_data.shape) # target column is 'Fertilizer Name'\n",
    "print(test_data.shape)\n",
    "print(train_data.columns.tolist()) # the columns in List data structure"
   ]
  },
  {
   "cell_type": "code",
   "execution_count": 4,
   "id": "d1fb47ca-7c01-4689-b5fa-902766aaae43",
   "metadata": {},
   "outputs": [],
   "source": [
    "########### Set 'id' as Index ##################\n",
    "\n",
    "train_data.set_index('id', inplace = True) # shape = (750000, 9)\n",
    "test_data.set_index('id', inplace = True)  # shape = (250000, 8)"
   ]
  },
  {
   "cell_type": "code",
   "execution_count": 5,
   "id": "ba081772-1c7a-4f77-9cd6-940b30741384",
   "metadata": {},
   "outputs": [
    {
     "name": "stdout",
     "output_type": "stream",
     "text": [
      "<class 'pandas.core.frame.DataFrame'>\n",
      "Index: 750000 entries, 0 to 749999\n",
      "Data columns (total 9 columns):\n",
      " #   Column           Non-Null Count   Dtype \n",
      "---  ------           --------------   ----- \n",
      " 0   Temparature      750000 non-null  int64 \n",
      " 1   Humidity         750000 non-null  int64 \n",
      " 2   Moisture         750000 non-null  int64 \n",
      " 3   Soil Type        750000 non-null  object\n",
      " 4   Crop Type        750000 non-null  object\n",
      " 5   Nitrogen         750000 non-null  int64 \n",
      " 6   Potassium        750000 non-null  int64 \n",
      " 7   Phosphorous      750000 non-null  int64 \n",
      " 8   Fertilizer Name  750000 non-null  object\n",
      "dtypes: int64(6), object(3)\n",
      "memory usage: 57.2+ MB\n",
      "None\n",
      "<class 'pandas.core.frame.DataFrame'>\n",
      "Index: 250000 entries, 750000 to 999999\n",
      "Data columns (total 8 columns):\n",
      " #   Column       Non-Null Count   Dtype \n",
      "---  ------       --------------   ----- \n",
      " 0   Temparature  250000 non-null  int64 \n",
      " 1   Humidity     250000 non-null  int64 \n",
      " 2   Moisture     250000 non-null  int64 \n",
      " 3   Soil Type    250000 non-null  object\n",
      " 4   Crop Type    250000 non-null  object\n",
      " 5   Nitrogen     250000 non-null  int64 \n",
      " 6   Potassium    250000 non-null  int64 \n",
      " 7   Phosphorous  250000 non-null  int64 \n",
      "dtypes: int64(6), object(2)\n",
      "memory usage: 17.2+ MB\n",
      "None\n"
     ]
    }
   ],
   "source": [
    "print(train_data.info())\n",
    "print(test_data.info())"
   ]
  },
  {
   "cell_type": "code",
   "execution_count": 6,
   "id": "618269d3-edf9-4c32-b86e-297bc3b7630d",
   "metadata": {},
   "outputs": [
    {
     "data": {
      "text/html": [
       "<div>\n",
       "<style scoped>\n",
       "    .dataframe tbody tr th:only-of-type {\n",
       "        vertical-align: middle;\n",
       "    }\n",
       "\n",
       "    .dataframe tbody tr th {\n",
       "        vertical-align: top;\n",
       "    }\n",
       "\n",
       "    .dataframe thead th {\n",
       "        text-align: right;\n",
       "    }\n",
       "</style>\n",
       "<table border=\"1\" class=\"dataframe\">\n",
       "  <thead>\n",
       "    <tr style=\"text-align: right;\">\n",
       "      <th></th>\n",
       "      <th>Temparature</th>\n",
       "      <th>Humidity</th>\n",
       "      <th>Moisture</th>\n",
       "      <th>Nitrogen</th>\n",
       "      <th>Potassium</th>\n",
       "      <th>Phosphorous</th>\n",
       "    </tr>\n",
       "  </thead>\n",
       "  <tbody>\n",
       "    <tr>\n",
       "      <th>count</th>\n",
       "      <td>750000.0</td>\n",
       "      <td>750000.0</td>\n",
       "      <td>750000.0</td>\n",
       "      <td>750000.0</td>\n",
       "      <td>750000.0</td>\n",
       "      <td>750000.0</td>\n",
       "    </tr>\n",
       "    <tr>\n",
       "      <th>mean</th>\n",
       "      <td>31.5</td>\n",
       "      <td>61.0</td>\n",
       "      <td>45.2</td>\n",
       "      <td>23.1</td>\n",
       "      <td>9.5</td>\n",
       "      <td>21.1</td>\n",
       "    </tr>\n",
       "    <tr>\n",
       "      <th>std</th>\n",
       "      <td>4.0</td>\n",
       "      <td>6.6</td>\n",
       "      <td>11.8</td>\n",
       "      <td>11.2</td>\n",
       "      <td>5.8</td>\n",
       "      <td>12.3</td>\n",
       "    </tr>\n",
       "    <tr>\n",
       "      <th>min</th>\n",
       "      <td>25.0</td>\n",
       "      <td>50.0</td>\n",
       "      <td>25.0</td>\n",
       "      <td>4.0</td>\n",
       "      <td>0.0</td>\n",
       "      <td>0.0</td>\n",
       "    </tr>\n",
       "    <tr>\n",
       "      <th>25%</th>\n",
       "      <td>28.0</td>\n",
       "      <td>55.0</td>\n",
       "      <td>35.0</td>\n",
       "      <td>13.0</td>\n",
       "      <td>4.0</td>\n",
       "      <td>10.0</td>\n",
       "    </tr>\n",
       "    <tr>\n",
       "      <th>50%</th>\n",
       "      <td>32.0</td>\n",
       "      <td>61.0</td>\n",
       "      <td>45.0</td>\n",
       "      <td>23.0</td>\n",
       "      <td>9.0</td>\n",
       "      <td>21.0</td>\n",
       "    </tr>\n",
       "    <tr>\n",
       "      <th>75%</th>\n",
       "      <td>35.0</td>\n",
       "      <td>67.0</td>\n",
       "      <td>55.0</td>\n",
       "      <td>33.0</td>\n",
       "      <td>14.0</td>\n",
       "      <td>32.0</td>\n",
       "    </tr>\n",
       "    <tr>\n",
       "      <th>max</th>\n",
       "      <td>38.0</td>\n",
       "      <td>72.0</td>\n",
       "      <td>65.0</td>\n",
       "      <td>42.0</td>\n",
       "      <td>19.0</td>\n",
       "      <td>42.0</td>\n",
       "    </tr>\n",
       "  </tbody>\n",
       "</table>\n",
       "</div>"
      ],
      "text/plain": [
       "       Temparature  Humidity  Moisture  Nitrogen  Potassium  Phosphorous\n",
       "count     750000.0  750000.0  750000.0  750000.0   750000.0     750000.0\n",
       "mean          31.5      61.0      45.2      23.1        9.5         21.1\n",
       "std            4.0       6.6      11.8      11.2        5.8         12.3\n",
       "min           25.0      50.0      25.0       4.0        0.0          0.0\n",
       "25%           28.0      55.0      35.0      13.0        4.0         10.0\n",
       "50%           32.0      61.0      45.0      23.0        9.0         21.0\n",
       "75%           35.0      67.0      55.0      33.0       14.0         32.0\n",
       "max           38.0      72.0      65.0      42.0       19.0         42.0"
      ]
     },
     "execution_count": 6,
     "metadata": {},
     "output_type": "execute_result"
    }
   ],
   "source": [
    "round(train_data.describe(),1)"
   ]
  },
  {
   "cell_type": "code",
   "execution_count": 7,
   "id": "43eddbb5-f00b-4f96-bbed-983c006f782b",
   "metadata": {},
   "outputs": [
    {
     "name": "stdout",
     "output_type": "stream",
     "text": [
      "Temparature        0\n",
      "Humidity           0\n",
      "Moisture           0\n",
      "Soil Type          0\n",
      "Crop Type          0\n",
      "Nitrogen           0\n",
      "Potassium          0\n",
      "Phosphorous        0\n",
      "Fertilizer Name    0\n",
      "dtype: int64\n",
      "Temparature    0\n",
      "Humidity       0\n",
      "Moisture       0\n",
      "Soil Type      0\n",
      "Crop Type      0\n",
      "Nitrogen       0\n",
      "Potassium      0\n",
      "Phosphorous    0\n",
      "dtype: int64\n"
     ]
    }
   ],
   "source": [
    "print(train_data.isna().sum()) # No null values\n",
    "print(test_data.isna().sum())  # No null values"
   ]
  },
  {
   "cell_type": "code",
   "execution_count": 8,
   "id": "5b935152-001d-4a6e-b654-6f965a485d25",
   "metadata": {},
   "outputs": [
    {
     "name": "stdout",
     "output_type": "stream",
     "text": [
      "0\n",
      "0\n"
     ]
    }
   ],
   "source": [
    "print(train_data.duplicated().sum()) # No duplicated rows\n",
    "print(test_data.duplicated().sum()) # No duplicated rows\n",
    "#df.drop_duplicates() ->  to remove duplicates"
   ]
  },
  {
   "cell_type": "code",
   "execution_count": 9,
   "id": "741e0c7b-1eda-40a5-9382-a0f5d46664f2",
   "metadata": {},
   "outputs": [
    {
     "data": {
      "text/html": [
       "<div>\n",
       "<style scoped>\n",
       "    .dataframe tbody tr th:only-of-type {\n",
       "        vertical-align: middle;\n",
       "    }\n",
       "\n",
       "    .dataframe tbody tr th {\n",
       "        vertical-align: top;\n",
       "    }\n",
       "\n",
       "    .dataframe thead th {\n",
       "        text-align: right;\n",
       "    }\n",
       "</style>\n",
       "<table border=\"1\" class=\"dataframe\">\n",
       "  <thead>\n",
       "    <tr style=\"text-align: right;\">\n",
       "      <th></th>\n",
       "      <th>Temparature</th>\n",
       "      <th>Humidity</th>\n",
       "      <th>Moisture</th>\n",
       "      <th>Soil Type</th>\n",
       "      <th>Crop Type</th>\n",
       "      <th>Nitrogen</th>\n",
       "      <th>Potassium</th>\n",
       "      <th>Phosphorous</th>\n",
       "      <th>Fertilizer Name</th>\n",
       "    </tr>\n",
       "    <tr>\n",
       "      <th>id</th>\n",
       "      <th></th>\n",
       "      <th></th>\n",
       "      <th></th>\n",
       "      <th></th>\n",
       "      <th></th>\n",
       "      <th></th>\n",
       "      <th></th>\n",
       "      <th></th>\n",
       "      <th></th>\n",
       "    </tr>\n",
       "  </thead>\n",
       "  <tbody>\n",
       "    <tr>\n",
       "      <th>0</th>\n",
       "      <td>37</td>\n",
       "      <td>70</td>\n",
       "      <td>36</td>\n",
       "      <td>Clayey</td>\n",
       "      <td>Sugarcane</td>\n",
       "      <td>36</td>\n",
       "      <td>4</td>\n",
       "      <td>5</td>\n",
       "      <td>28-28</td>\n",
       "    </tr>\n",
       "    <tr>\n",
       "      <th>1</th>\n",
       "      <td>27</td>\n",
       "      <td>69</td>\n",
       "      <td>65</td>\n",
       "      <td>Sandy</td>\n",
       "      <td>Millets</td>\n",
       "      <td>30</td>\n",
       "      <td>6</td>\n",
       "      <td>18</td>\n",
       "      <td>28-28</td>\n",
       "    </tr>\n",
       "  </tbody>\n",
       "</table>\n",
       "</div>"
      ],
      "text/plain": [
       "    Temparature  Humidity  Moisture Soil Type  Crop Type  Nitrogen  Potassium  \\\n",
       "id                                                                              \n",
       "0            37        70        36    Clayey  Sugarcane        36          4   \n",
       "1            27        69        65     Sandy    Millets        30          6   \n",
       "\n",
       "    Phosphorous Fertilizer Name  \n",
       "id                               \n",
       "0             5           28-28  \n",
       "1            18           28-28  "
      ]
     },
     "execution_count": 9,
     "metadata": {},
     "output_type": "execute_result"
    }
   ],
   "source": [
    "train_data.head(2)"
   ]
  },
  {
   "cell_type": "code",
   "execution_count": 10,
   "id": "da3de8fa-7455-4d7e-8e17-4dcc69b81a9c",
   "metadata": {},
   "outputs": [
    {
     "data": {
      "text/html": [
       "<div>\n",
       "<style scoped>\n",
       "    .dataframe tbody tr th:only-of-type {\n",
       "        vertical-align: middle;\n",
       "    }\n",
       "\n",
       "    .dataframe tbody tr th {\n",
       "        vertical-align: top;\n",
       "    }\n",
       "\n",
       "    .dataframe thead th {\n",
       "        text-align: right;\n",
       "    }\n",
       "</style>\n",
       "<table border=\"1\" class=\"dataframe\">\n",
       "  <thead>\n",
       "    <tr style=\"text-align: right;\">\n",
       "      <th></th>\n",
       "      <th>Temparature</th>\n",
       "      <th>Humidity</th>\n",
       "      <th>Moisture</th>\n",
       "      <th>Soil Type</th>\n",
       "      <th>Crop Type</th>\n",
       "      <th>Nitrogen</th>\n",
       "      <th>Potassium</th>\n",
       "      <th>Phosphorous</th>\n",
       "    </tr>\n",
       "    <tr>\n",
       "      <th>id</th>\n",
       "      <th></th>\n",
       "      <th></th>\n",
       "      <th></th>\n",
       "      <th></th>\n",
       "      <th></th>\n",
       "      <th></th>\n",
       "      <th></th>\n",
       "      <th></th>\n",
       "    </tr>\n",
       "  </thead>\n",
       "  <tbody>\n",
       "    <tr>\n",
       "      <th>750000</th>\n",
       "      <td>31</td>\n",
       "      <td>70</td>\n",
       "      <td>52</td>\n",
       "      <td>Sandy</td>\n",
       "      <td>Wheat</td>\n",
       "      <td>34</td>\n",
       "      <td>11</td>\n",
       "      <td>24</td>\n",
       "    </tr>\n",
       "    <tr>\n",
       "      <th>750001</th>\n",
       "      <td>27</td>\n",
       "      <td>62</td>\n",
       "      <td>45</td>\n",
       "      <td>Red</td>\n",
       "      <td>Sugarcane</td>\n",
       "      <td>30</td>\n",
       "      <td>14</td>\n",
       "      <td>15</td>\n",
       "    </tr>\n",
       "  </tbody>\n",
       "</table>\n",
       "</div>"
      ],
      "text/plain": [
       "        Temparature  Humidity  Moisture Soil Type  Crop Type  Nitrogen  \\\n",
       "id                                                                       \n",
       "750000           31        70        52     Sandy      Wheat        34   \n",
       "750001           27        62        45       Red  Sugarcane        30   \n",
       "\n",
       "        Potassium  Phosphorous  \n",
       "id                              \n",
       "750000         11           24  \n",
       "750001         14           15  "
      ]
     },
     "execution_count": 10,
     "metadata": {},
     "output_type": "execute_result"
    }
   ],
   "source": [
    "test_data.head(2)"
   ]
  },
  {
   "cell_type": "code",
   "execution_count": 11,
   "id": "d4adda0c-3cd0-45f4-9152-0cdcb9e7825a",
   "metadata": {},
   "outputs": [
    {
     "name": "stdout",
     "output_type": "stream",
     "text": [
      "Soil Type\n",
      "Sandy     156710\n",
      "Black     150956\n",
      "Clayey    148382\n",
      "Red       148102\n",
      "Loamy     145850\n",
      "Name: count, dtype: int64\n",
      "--------------------------------\n",
      "Crop Type\n",
      "Paddy          85754\n",
      "Pulses         78180\n",
      "Cotton         69171\n",
      "Tobacco        68000\n",
      "Wheat          66628\n",
      "Millets        65291\n",
      "Barley         65045\n",
      "Sugarcane      64269\n",
      "Oil seeds      64184\n",
      "Maize          62569\n",
      "Ground Nuts    60909\n",
      "Name: count, dtype: int64\n",
      "--------------------------------\n",
      "Fertilizer Name\n",
      "14-35-14    114436\n",
      "10-26-26    113887\n",
      "17-17-17    112453\n",
      "28-28       111158\n",
      "20-20       110889\n",
      "DAP          94860\n",
      "Urea         92317\n",
      "Name: count, dtype: int64\n"
     ]
    }
   ],
   "source": [
    "print(train_data['Soil Type'].value_counts()) # 5 soil types\n",
    "print('--------------------------------')\n",
    "print(train_data['Crop Type'].value_counts()) # 11 crop types\n",
    "print('--------------------------------')\n",
    "print(train_data['Fertilizer Name'].value_counts())  # 7 fertilizers types"
   ]
  },
  {
   "cell_type": "code",
   "execution_count": 32,
   "id": "39368aa0-752b-47df-871d-17d05036136d",
   "metadata": {},
   "outputs": [],
   "source": [
    "categorial_columns = [col for col in train_data.columns if train_data[col].dtype == 'O']\n",
    "# ['Soil Type', 'Crop Type', 'Fertilizer Name']\n",
    "numeric_columns = [col for col in train_data.columns if train_data[col].dtype != 'object']\n",
    "# ['Temparature', 'Humidity', 'Moisture', 'Nitrogen', 'Potassium', 'Phosphorous']"
   ]
  },
  {
   "cell_type": "markdown",
   "id": "b5e27661-2041-4597-871f-4f905e67ccf5",
   "metadata": {},
   "source": [
    "### 3.2 Insights from Data"
   ]
  },
  {
   "cell_type": "markdown",
   "id": "90479562-9094-400b-aa57-1861b8e170bf",
   "metadata": {},
   "source": [
    "([🔝 Return to Top](#Steps))"
   ]
  },
  {
   "cell_type": "markdown",
   "id": "010c604f-1570-46e4-827d-86d8ee810682",
   "metadata": {},
   "source": [
    "##### Basic table info\n",
    "- Total 10,00,000 rows of data\n",
    "- train.csv\n",
    "  1. 7,50,000 rows\n",
    "  2. 10 columns(having target columns - 'Fertilizer Name')\n",
    "  3. Column Names - ['id', 'Temparature', 'Humidity', 'Moisture', 'Soil Type', 'Crop Type', 'Nitrogen', 'Potassium', 'Phosphorous', 'Fertilizer Name']\n",
    "- test.csv\n",
    "  1. 2,50,000 rows\n",
    "  2. 9 columns\n",
    "  3. Column names - ['id', 'Temparature', 'Humidity', 'Moisture', 'Soil Type', 'Crop Type', 'Nitrogen', 'Potassium', 'Phosphorous']\n",
    "- Categorical Columns - ['Soil Type', 'Crop Type', 'Fertilizer Name']\n",
    "- Numeric Columns - ['Temparature', 'Humidity', 'Moisture', 'Nitrogen', 'Potassium', 'Phosphorous']"
   ]
  },
  {
   "cell_type": "markdown",
   "id": "36a6ec1a-fedb-4282-8d5d-694a4918fff9",
   "metadata": {},
   "source": [
    "##### Data cleaning info\n",
    "\n",
    "- No NaN or Null values.\n",
    "- No Duplicate rows."
   ]
  },
  {
   "cell_type": "markdown",
   "id": "c7b17e11-1b03-4547-8f94-5632ee58eed6",
   "metadata": {},
   "source": [
    "##### Categorical Columns info\n",
    "\n",
    "- Fertilizer Name Column (Target Column or Dependent variable).\n",
    "    1. 7 - Fertilizer Names\n",
    "    2. [\"14-35-14\", \"10-26-26\", \"17-17-17\", \"28-28\", \"20-20\", \"DAP\", \"Urea\"]\n",
    "\n",
    "- Soil Type Column (Feature Column or Independent Variable)\n",
    "    1. 5 - Soil Types\n",
    "    2. [\"Sandy\", \"Black\", \"Clayey\", \"Red\", \"Loamy\"]\n",
    "\n",
    "- Crop Type Column (Feature Column or Independent Variable)\n",
    "    1. 11 - Crop Types\n",
    "    2. [\"Paddy\", \"Pulses\", \"Cotton\", \"Tobacco\", \"Wheat\", \"Millets\", \"Barley\", \"Sugarcane\", \"Oil seeds\", \"Maize\", \"Ground Nuts\"]"
   ]
  },
  {
   "cell_type": "markdown",
   "id": "9caf5a8f-928f-48ac-9cc7-94a16414b896",
   "metadata": {},
   "source": [
    "##### Numerical Column info\n",
    "1. 🌡️ Temperature\n",
    "- Range: 25.0°C to 38.0°C\n",
    "- Mean: 31.5°C\n",
    "- Insight: The average temperature falls within a warm range, ideal for tropical and subtropical crops like paddy, cotton, and maize. A relatively narrow standard deviation (4.0) indicates temperature conditions are fairly stable across samples.\n",
    "\n",
    "2. 💧 Humidity\n",
    "- Range: 50.0% to 72.0%\n",
    "- Mean: 61.0%\n",
    "- Insight: The data reflects moderate to high humidity. Most crops such as paddy, sugarcane, and pulses benefit from these moisture levels in the air. A standard deviation of 6.6 shows some fluctuation, but it's not extreme.\n",
    "\n",
    "3. 🌱 Soil Moisture\n",
    "- Range: 25.0 to 65.0 units\n",
    "- Mean: 45.2\n",
    "- Insight: The average moisture level is well-balanced, suggesting moderately moist soil, suitable for a wide range of crops. The spread (std = 11.8) shows variability across different regions or irrigation levels.\n",
    "\n",
    "4. 🌾 Nitrogen\n",
    "- Range: 4.0 to 42.0\n",
    "- Mean: 23.1\n",
    "- Insight: Nitrogen levels are centered around moderate values, necessary for leafy growth. The broad spread (std = 11.2) indicates that fertilizer application or soil quality varies widely, which could affect yield consistency.\n",
    "\n",
    "5. 🧂 Potassium\n",
    "- Range: 0.0 to 19.0\n",
    "- Mean: 9.5\n",
    "- Insight: Potassium is essential for fruiting and root development. While the average level is moderate, the presence of 0.0 as a minimum suggests some samples may be nutrient-deficient, possibly needing supplementation.\n",
    "\n",
    "6. 🧪 Phosphorous\n",
    "- Range: 0.0 to 42.0\n",
    "- Mean: 21.1\n",
    "- Insight: With a moderate average and significant standard deviation (12.3), phosphorous levels vary greatly. Like potassium, some areas may lack sufficient phosphorous, which could impact early root development and flowering."
   ]
  },
  {
   "cell_type": "markdown",
   "id": "c4cfaae1-119e-4db7-aa33-2ebf1579fbe7",
   "metadata": {},
   "source": [
    "## 4. Explore the Data"
   ]
  },
  {
   "cell_type": "markdown",
   "id": "5533cca1-d725-4bef-8686-aaca98b837b1",
   "metadata": {},
   "source": [
    "([🔝 Return to Top](#Steps))"
   ]
  },
  {
   "cell_type": "code",
   "execution_count": 56,
   "id": "70ca3077-3944-4d5b-90ad-3107859425a9",
   "metadata": {},
   "outputs": [
    {
     "data": {
      "image/png": "[encoded data removed]",
      "text/plain": [
       "<Figure size 2100x700 with 3 Axes>"
      ]
     },
     "metadata": {},
     "output_type": "display_data"
    }
   ],
   "source": [
    "fig, axs = plt.subplots(1,3, figsize = (21,7))\n",
    "\n",
    "\n",
    "sns.countplot(data = test_data, x = test_data['Soil Type'],ax = axs[0], palette = 'Blues')\n",
    "for container in axs[0].containers:\n",
    "    axs[0].bar_label(container, color = 'black', size = 9)\n",
    "axs[0].tick_params(axis = 'x', rotation = 45)\n",
    "\n",
    "sns.countplot(data = test_data, x = test_data['Crop Type'], ax = axs[1], palette = 'Spectral')\n",
    "for container in axs[1].containers:\n",
    "    axs[1].bar_label(container, color = 'black', size = 9)\n",
    "axs[1].tick_params(axis = 'x', rotation = 45)\n",
    "\n",
    "sns.countplot(data = train_data, x = train_data['Fertilizer Name'],ax = axs[2], palette = 'Spectral')\n",
    "for container in axs[2].containers:\n",
    "    axs[2].bar_label(container, color = 'black', size = 9)\n",
    "axs[2].tick_params(axis = 'x', rotation = 45)"
   ]
  },
  {
   "cell_type": "markdown",
   "id": "664098b7-cde8-4dac-a12a-91d6a40dabdb",
   "metadata": {},
   "source": [
    "## 3.1 OneHotEncoding with LabelEncoder"
   ]
  },
  {
   "cell_type": "code",
   "execution_count": 13,
   "id": "3da36db9-4946-4570-ae1b-1a1e077388df",
   "metadata": {},
   "outputs": [
    {
     "ename": "NameError",
     "evalue": "name 'df' is not defined",
     "output_type": "error",
     "traceback": [
      "\u001b[31m---------------------------------------------------------------------------\u001b[39m",
      "\u001b[31mNameError\u001b[39m                                 Traceback (most recent call last)",
      "\u001b[36mCell\u001b[39m\u001b[36m \u001b[39m\u001b[32mIn[13]\u001b[39m\u001b[32m, line 1\u001b[39m\n\u001b[32m----> \u001b[39m\u001b[32m1\u001b[39m category_column_names = [col \u001b[38;5;28;01mfor\u001b[39;00m col \u001b[38;5;129;01min\u001b[39;00m \u001b[43mdf\u001b[49m.columns \u001b[38;5;28;01mif\u001b[39;00m df[col].dtype ==  \u001b[33m'\u001b[39m\u001b[33mO\u001b[39m\u001b[33m'\u001b[39m] \u001b[38;5;66;03m#['soil_type', 'crop_type', 'fertilizer_name']\u001b[39;00m\n\u001b[32m      2\u001b[39m numeric_column_names = [ col   \u001b[38;5;28;01mfor\u001b[39;00m col \u001b[38;5;129;01min\u001b[39;00m df.iloc[:, :\u001b[32m8\u001b[39m].columns \u001b[38;5;28;01mif\u001b[39;00m df[col].dtype != \u001b[33m'\u001b[39m\u001b[33mobject\u001b[39m\u001b[33m'\u001b[39m] \u001b[38;5;66;03m# 'O' or 'object' -> same\u001b[39;00m\n\u001b[32m      3\u001b[39m \u001b[38;5;66;03m# ['temperature', 'humidity', 'moisture', 'nitrogen', 'potassium', 'phosphorous']\u001b[39;00m\n",
      "\u001b[31mNameError\u001b[39m: name 'df' is not defined"
     ]
    }
   ],
   "source": [
    "category_column_names = [col for col in df.columns if df[col].dtype ==  'O'] #['soil_type', 'crop_type', 'fertilizer_name']\n",
    "numeric_column_names = [ col   for col in df.iloc[:, :8].columns if df[col].dtype != 'object'] # 'O' or 'object' -> same\n",
    "# ['temperature', 'humidity', 'moisture', 'nitrogen', 'potassium', 'phosphorous']"
   ]
  },
  {
   "cell_type": "code",
   "execution_count": null,
   "id": "c1d81b34-7a1f-4416-91ee-877fb6f43f94",
   "metadata": {},
   "outputs": [],
   "source": [
    "lbl = LabelEncoder()\n",
    "for cat in category_column_names:\n",
    "    df[cat] = lbl.fit_transform(df[cat])\n",
    "df['fertilizer_name']"
   ]
  },
  {
   "cell_type": "code",
   "execution_count": null,
   "id": "f2ef04f4-481e-44c4-a465-12da8f49967c",
   "metadata": {},
   "outputs": [],
   "source": [
    "df.shape # 22 independent features and 1 dependent feature"
   ]
  },
  {
   "cell_type": "code",
   "execution_count": null,
   "id": "3e48e748-3017-4d35-832b-264ae7d140a1",
   "metadata": {},
   "outputs": [],
   "source": [
    "df.info()"
   ]
  },
  {
   "cell_type": "code",
   "execution_count": null,
   "id": "5635e62f-3216-4664-9dcc-31684d88b898",
   "metadata": {},
   "outputs": [],
   "source": [
    "df.corr()['fertilizer_name']"
   ]
  },
  {
   "cell_type": "markdown",
   "id": "81239cd3-fd2a-4cb3-9ab9-7b6bfcf232b4",
   "metadata": {},
   "source": [
    "## 3.2 Standard Scaling (optional)"
   ]
  },
  {
   "cell_type": "raw",
   "id": "d6774a55-89ac-476d-b2c4-9207eedd9e0e",
   "metadata": {},
   "source": [
    "from sklearn.preprocessing import StandardScaler #Class imported\n",
    "\n",
    "scalar = StandardScaler()\n",
    "scaled_df = scalar.fit_transform(df.drop(['fertilizer_name'], axis = 1))\n",
    "scaled_df"
   ]
  },
  {
   "cell_type": "code",
   "execution_count": null,
   "id": "528223e9-48e0-4d3e-a3ce-29ebb55bba6c",
   "metadata": {},
   "outputs": [],
   "source": []
  }
 ],
 "metadata": {
  "kernelspec": {
   "display_name": "Python 3 (ipykernel)",
   "language": "python",
   "name": "python3"
  },
  "language_info": {
   "codemirror_mode": {
    "name": "ipython",
    "version": 3
   },
   "file_extension": ".py",
   "mimetype": "text/x-python",
   "name": "python",
   "nbconvert_exporter": "python",
   "pygments_lexer": "ipython3",
   "version": "3.11.9"
  }
 },
 "nbformat": 4,
 "nbformat_minor": 5
}
